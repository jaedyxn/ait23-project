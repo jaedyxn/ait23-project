{
  "cells": [
    {
      "cell_type": "markdown",
      "metadata": {
        "id": "view-in-github",
        "colab_type": "text"
      },
      "source": [
        "<a href=\"https://colab.research.google.com/github/jaedyxn/ait23-project/blob/main/FinalProject.ipynb\" target=\"_parent\"><img src=\"https://colab.research.google.com/assets/colab-badge.svg\" alt=\"Open In Colab\"/></a>"
      ]
    },
    {
      "cell_type": "code",
      "execution_count": null,
      "id": "5d5b68c3",
      "metadata": {
        "id": "5d5b68c3"
      },
      "outputs": [],
      "source": [
        "import pandas as pd\n",
        "from tensorflow.keras.models import Sequential\n",
        "from tensorflow.keras.utils import to_categorical\n",
        "from tensorflow.keras.layers import Activation, Dense, Flatten, Conv1D, MaxPooling1D, Dropout\n",
        "from tensorflow.keras.callbacks import EarlyStopping\n",
        "from tensorflow.keras.optimizers import SGD\n",
        "from tensorflow.keras.layers import LSTM\n",
        "from tensorflow.keras.optimizers import RMSprop\n",
        "from urllib.request import urlretrieve\n",
        "import numpy as np\n",
        "import random\n",
        "import sys\n",
        "import re, cgi\n",
        "from imblearn.over_sampling import SMOTE\n",
        "from sklearn.model_selection import train_test_split\n",
        "from sklearn.metrics import confusion_matrix, classification_report\n",
        "import seaborn as sns\n",
        "from sklearn.metrics import accuracy_score, recall_score, precision_score, f1_score"
      ]
    },
    {
      "cell_type": "code",
      "source": [
        "from google.colab import drive\n",
        "drive.mount('/content/drive')\n",
        "df = pd.read_csv(\"/content/drive/MyDrive/Colab Notebooks/cleaned.csv\")"
      ],
      "metadata": {
        "colab": {
          "base_uri": "https://localhost:8080/"
        },
        "id": "y8Zqw0b8sxTa",
        "outputId": "6a589b24-89b0-49b8-f337-0ad6e690f8c9"
      },
      "id": "y8Zqw0b8sxTa",
      "execution_count": null,
      "outputs": [
        {
          "output_type": "stream",
          "name": "stdout",
          "text": [
            "Drive already mounted at /content/drive; to attempt to forcibly remount, call drive.mount(\"/content/drive\", force_remount=True).\n"
          ]
        }
      ]
    },
    {
      "cell_type": "code",
      "source": [
        "df.head()"
      ],
      "metadata": {
        "colab": {
          "base_uri": "https://localhost:8080/",
          "height": 317
        },
        "id": "OqluovOOsxlX",
        "outputId": "a832c812-981a-441e-f4c8-f157b94ca1f0"
      },
      "id": "OqluovOOsxlX",
      "execution_count": null,
      "outputs": [
        {
          "output_type": "execute_result",
          "data": {
            "text/plain": [
              "   Unnamed: 0                           CONS_NO  FLAG   1/1/2014  1/10/2014  \\\n",
              "0           0  0387DD8A07E07FDA6271170F86AD9151     1  13.876554  13.876554   \n",
              "1           1  EDFC78B07BA2908B3395C4EB2304665E     1   2.900000   3.420000   \n",
              "2           2  34C1954AA3703C4F8BD8EAEA7C4B7B83     1   0.110000   0.530000   \n",
              "3           3  768309B0EB11FD436CEE5ABFB84F4C0C     1   0.910000   0.860000   \n",
              "4           4  516954F5FF177CE314656D727FCC66A5     1  11.020000   8.240000   \n",
              "\n",
              "   1/11/2014  1/12/2014  1/13/2014  1/14/2014  1/15/2014  ...  9/28/2016  \\\n",
              "0  13.876554  13.876554  13.876554  13.876554  13.876554  ...      10.12   \n",
              "1   3.810000   4.580000   3.560000   4.250000   3.860000  ...      17.77   \n",
              "2   0.450000   0.510000   1.320000   0.710000   0.120000  ...       4.33   \n",
              "3   1.100000   0.660000   5.820000   3.170000   1.180000  ...       2.36   \n",
              "4   7.940000   7.920000   8.310000   7.390000   8.270000  ...      51.36   \n",
              "\n",
              "   9/29/2016  9/3/2016  9/30/2016  9/4/2016  9/5/2016  9/6/2016  9/7/2016  \\\n",
              "0       9.96     16.92       7.60     27.22     18.05     26.47     18.75   \n",
              "1      10.37     15.32      13.51     12.23     14.68     16.35     18.14   \n",
              "2       2.46      1.23       3.19      1.17      1.36      0.56      1.02   \n",
              "3       2.82      2.28       3.70      3.07      4.61      3.13      3.10   \n",
              "4      52.39    113.35      60.89    115.62    108.69     87.88     86.36   \n",
              "\n",
              "   9/8/2016  9/9/2016  \n",
              "0     17.84     14.92  \n",
              "1     18.41     17.31  \n",
              "2      1.96      1.83  \n",
              "3      3.74      3.13  \n",
              "4     81.51     81.75  \n",
              "\n",
              "[5 rows x 1037 columns]"
            ],
            "text/html": [
              "\n",
              "  <div id=\"df-b24098e6-d689-4c61-9124-98dc28eacc38\">\n",
              "    <div class=\"colab-df-container\">\n",
              "      <div>\n",
              "<style scoped>\n",
              "    .dataframe tbody tr th:only-of-type {\n",
              "        vertical-align: middle;\n",
              "    }\n",
              "\n",
              "    .dataframe tbody tr th {\n",
              "        vertical-align: top;\n",
              "    }\n",
              "\n",
              "    .dataframe thead th {\n",
              "        text-align: right;\n",
              "    }\n",
              "</style>\n",
              "<table border=\"1\" class=\"dataframe\">\n",
              "  <thead>\n",
              "    <tr style=\"text-align: right;\">\n",
              "      <th></th>\n",
              "      <th>Unnamed: 0</th>\n",
              "      <th>CONS_NO</th>\n",
              "      <th>FLAG</th>\n",
              "      <th>1/1/2014</th>\n",
              "      <th>1/10/2014</th>\n",
              "      <th>1/11/2014</th>\n",
              "      <th>1/12/2014</th>\n",
              "      <th>1/13/2014</th>\n",
              "      <th>1/14/2014</th>\n",
              "      <th>1/15/2014</th>\n",
              "      <th>...</th>\n",
              "      <th>9/28/2016</th>\n",
              "      <th>9/29/2016</th>\n",
              "      <th>9/3/2016</th>\n",
              "      <th>9/30/2016</th>\n",
              "      <th>9/4/2016</th>\n",
              "      <th>9/5/2016</th>\n",
              "      <th>9/6/2016</th>\n",
              "      <th>9/7/2016</th>\n",
              "      <th>9/8/2016</th>\n",
              "      <th>9/9/2016</th>\n",
              "    </tr>\n",
              "  </thead>\n",
              "  <tbody>\n",
              "    <tr>\n",
              "      <th>0</th>\n",
              "      <td>0</td>\n",
              "      <td>0387DD8A07E07FDA6271170F86AD9151</td>\n",
              "      <td>1</td>\n",
              "      <td>13.876554</td>\n",
              "      <td>13.876554</td>\n",
              "      <td>13.876554</td>\n",
              "      <td>13.876554</td>\n",
              "      <td>13.876554</td>\n",
              "      <td>13.876554</td>\n",
              "      <td>13.876554</td>\n",
              "      <td>...</td>\n",
              "      <td>10.12</td>\n",
              "      <td>9.96</td>\n",
              "      <td>16.92</td>\n",
              "      <td>7.60</td>\n",
              "      <td>27.22</td>\n",
              "      <td>18.05</td>\n",
              "      <td>26.47</td>\n",
              "      <td>18.75</td>\n",
              "      <td>17.84</td>\n",
              "      <td>14.92</td>\n",
              "    </tr>\n",
              "    <tr>\n",
              "      <th>1</th>\n",
              "      <td>1</td>\n",
              "      <td>EDFC78B07BA2908B3395C4EB2304665E</td>\n",
              "      <td>1</td>\n",
              "      <td>2.900000</td>\n",
              "      <td>3.420000</td>\n",
              "      <td>3.810000</td>\n",
              "      <td>4.580000</td>\n",
              "      <td>3.560000</td>\n",
              "      <td>4.250000</td>\n",
              "      <td>3.860000</td>\n",
              "      <td>...</td>\n",
              "      <td>17.77</td>\n",
              "      <td>10.37</td>\n",
              "      <td>15.32</td>\n",
              "      <td>13.51</td>\n",
              "      <td>12.23</td>\n",
              "      <td>14.68</td>\n",
              "      <td>16.35</td>\n",
              "      <td>18.14</td>\n",
              "      <td>18.41</td>\n",
              "      <td>17.31</td>\n",
              "    </tr>\n",
              "    <tr>\n",
              "      <th>2</th>\n",
              "      <td>2</td>\n",
              "      <td>34C1954AA3703C4F8BD8EAEA7C4B7B83</td>\n",
              "      <td>1</td>\n",
              "      <td>0.110000</td>\n",
              "      <td>0.530000</td>\n",
              "      <td>0.450000</td>\n",
              "      <td>0.510000</td>\n",
              "      <td>1.320000</td>\n",
              "      <td>0.710000</td>\n",
              "      <td>0.120000</td>\n",
              "      <td>...</td>\n",
              "      <td>4.33</td>\n",
              "      <td>2.46</td>\n",
              "      <td>1.23</td>\n",
              "      <td>3.19</td>\n",
              "      <td>1.17</td>\n",
              "      <td>1.36</td>\n",
              "      <td>0.56</td>\n",
              "      <td>1.02</td>\n",
              "      <td>1.96</td>\n",
              "      <td>1.83</td>\n",
              "    </tr>\n",
              "    <tr>\n",
              "      <th>3</th>\n",
              "      <td>3</td>\n",
              "      <td>768309B0EB11FD436CEE5ABFB84F4C0C</td>\n",
              "      <td>1</td>\n",
              "      <td>0.910000</td>\n",
              "      <td>0.860000</td>\n",
              "      <td>1.100000</td>\n",
              "      <td>0.660000</td>\n",
              "      <td>5.820000</td>\n",
              "      <td>3.170000</td>\n",
              "      <td>1.180000</td>\n",
              "      <td>...</td>\n",
              "      <td>2.36</td>\n",
              "      <td>2.82</td>\n",
              "      <td>2.28</td>\n",
              "      <td>3.70</td>\n",
              "      <td>3.07</td>\n",
              "      <td>4.61</td>\n",
              "      <td>3.13</td>\n",
              "      <td>3.10</td>\n",
              "      <td>3.74</td>\n",
              "      <td>3.13</td>\n",
              "    </tr>\n",
              "    <tr>\n",
              "      <th>4</th>\n",
              "      <td>4</td>\n",
              "      <td>516954F5FF177CE314656D727FCC66A5</td>\n",
              "      <td>1</td>\n",
              "      <td>11.020000</td>\n",
              "      <td>8.240000</td>\n",
              "      <td>7.940000</td>\n",
              "      <td>7.920000</td>\n",
              "      <td>8.310000</td>\n",
              "      <td>7.390000</td>\n",
              "      <td>8.270000</td>\n",
              "      <td>...</td>\n",
              "      <td>51.36</td>\n",
              "      <td>52.39</td>\n",
              "      <td>113.35</td>\n",
              "      <td>60.89</td>\n",
              "      <td>115.62</td>\n",
              "      <td>108.69</td>\n",
              "      <td>87.88</td>\n",
              "      <td>86.36</td>\n",
              "      <td>81.51</td>\n",
              "      <td>81.75</td>\n",
              "    </tr>\n",
              "  </tbody>\n",
              "</table>\n",
              "<p>5 rows × 1037 columns</p>\n",
              "</div>\n",
              "      <button class=\"colab-df-convert\" onclick=\"convertToInteractive('df-b24098e6-d689-4c61-9124-98dc28eacc38')\"\n",
              "              title=\"Convert this dataframe to an interactive table.\"\n",
              "              style=\"display:none;\">\n",
              "        \n",
              "  <svg xmlns=\"http://www.w3.org/2000/svg\" height=\"24px\"viewBox=\"0 0 24 24\"\n",
              "       width=\"24px\">\n",
              "    <path d=\"M0 0h24v24H0V0z\" fill=\"none\"/>\n",
              "    <path d=\"M18.56 5.44l.94 2.06.94-2.06 2.06-.94-2.06-.94-.94-2.06-.94 2.06-2.06.94zm-11 1L8.5 8.5l.94-2.06 2.06-.94-2.06-.94L8.5 2.5l-.94 2.06-2.06.94zm10 10l.94 2.06.94-2.06 2.06-.94-2.06-.94-.94-2.06-.94 2.06-2.06.94z\"/><path d=\"M17.41 7.96l-1.37-1.37c-.4-.4-.92-.59-1.43-.59-.52 0-1.04.2-1.43.59L10.3 9.45l-7.72 7.72c-.78.78-.78 2.05 0 2.83L4 21.41c.39.39.9.59 1.41.59.51 0 1.02-.2 1.41-.59l7.78-7.78 2.81-2.81c.8-.78.8-2.07 0-2.86zM5.41 20L4 18.59l7.72-7.72 1.47 1.35L5.41 20z\"/>\n",
              "  </svg>\n",
              "      </button>\n",
              "      \n",
              "  <style>\n",
              "    .colab-df-container {\n",
              "      display:flex;\n",
              "      flex-wrap:wrap;\n",
              "      gap: 12px;\n",
              "    }\n",
              "\n",
              "    .colab-df-convert {\n",
              "      background-color: #E8F0FE;\n",
              "      border: none;\n",
              "      border-radius: 50%;\n",
              "      cursor: pointer;\n",
              "      display: none;\n",
              "      fill: #1967D2;\n",
              "      height: 32px;\n",
              "      padding: 0 0 0 0;\n",
              "      width: 32px;\n",
              "    }\n",
              "\n",
              "    .colab-df-convert:hover {\n",
              "      background-color: #E2EBFA;\n",
              "      box-shadow: 0px 1px 2px rgba(60, 64, 67, 0.3), 0px 1px 3px 1px rgba(60, 64, 67, 0.15);\n",
              "      fill: #174EA6;\n",
              "    }\n",
              "\n",
              "    [theme=dark] .colab-df-convert {\n",
              "      background-color: #3B4455;\n",
              "      fill: #D2E3FC;\n",
              "    }\n",
              "\n",
              "    [theme=dark] .colab-df-convert:hover {\n",
              "      background-color: #434B5C;\n",
              "      box-shadow: 0px 1px 3px 1px rgba(0, 0, 0, 0.15);\n",
              "      filter: drop-shadow(0px 1px 2px rgba(0, 0, 0, 0.3));\n",
              "      fill: #FFFFFF;\n",
              "    }\n",
              "  </style>\n",
              "\n",
              "      <script>\n",
              "        const buttonEl =\n",
              "          document.querySelector('#df-b24098e6-d689-4c61-9124-98dc28eacc38 button.colab-df-convert');\n",
              "        buttonEl.style.display =\n",
              "          google.colab.kernel.accessAllowed ? 'block' : 'none';\n",
              "\n",
              "        async function convertToInteractive(key) {\n",
              "          const element = document.querySelector('#df-b24098e6-d689-4c61-9124-98dc28eacc38');\n",
              "          const dataTable =\n",
              "            await google.colab.kernel.invokeFunction('convertToInteractive',\n",
              "                                                     [key], {});\n",
              "          if (!dataTable) return;\n",
              "\n",
              "          const docLinkHtml = 'Like what you see? Visit the ' +\n",
              "            '<a target=\"_blank\" href=https://colab.research.google.com/notebooks/data_table.ipynb>data table notebook</a>'\n",
              "            + ' to learn more about interactive tables.';\n",
              "          element.innerHTML = '';\n",
              "          dataTable['output_type'] = 'display_data';\n",
              "          await google.colab.output.renderOutput(dataTable, element);\n",
              "          const docLink = document.createElement('div');\n",
              "          docLink.innerHTML = docLinkHtml;\n",
              "          element.appendChild(docLink);\n",
              "        }\n",
              "      </script>\n",
              "    </div>\n",
              "  </div>\n",
              "  "
            ]
          },
          "metadata": {},
          "execution_count": 9
        }
      ]
    },
    {
      "cell_type": "code",
      "source": [
        "def data_split(df, flag, label):\n",
        "    flags = np.array(df[flag])\n",
        "    df = df.drop(flag, axis=1)\n",
        "    df = df.drop(label, axis=1)\n",
        "    df = np.array(df)\n",
        "    return flags, df"
      ],
      "metadata": {
        "id": "RPApFkQNsx3R"
      },
      "id": "RPApFkQNsx3R",
      "execution_count": null,
      "outputs": []
    },
    {
      "cell_type": "code",
      "source": [
        "train, test = train_test_split(df, test_size=.2, random_state=42, stratify=df['FLAG'])"
      ],
      "metadata": {
        "id": "UxxyvnoDsyJ-"
      },
      "id": "UxxyvnoDsyJ-",
      "execution_count": null,
      "outputs": []
    },
    {
      "cell_type": "code",
      "source": [
        "training_flags, training_data = data_split(train, 'FLAG', 'CONS_NO')"
      ],
      "metadata": {
        "id": "VgSn1yW4vogq"
      },
      "id": "VgSn1yW4vogq",
      "execution_count": null,
      "outputs": []
    },
    {
      "cell_type": "code",
      "source": [
        "test_flags, test_data = data_split(test, 'FLAG', 'CONS_NO')"
      ],
      "metadata": {
        "id": "r7P2_7AWsydA"
      },
      "id": "r7P2_7AWsydA",
      "execution_count": null,
      "outputs": []
    },
    {
      "cell_type": "code",
      "source": [
        "model = Sequential()\n",
        "model.add(Dense(128, activation='relu', input_shape = (training_data.shape[1],)))\n",
        "model.add(Dense(64, activation='relu'))\n",
        "model.add(Dense(1, activation='sigmoid'))\n",
        "\n",
        "model.compile(loss='binary_crossentropy', optimizer='adam', metrics=['accuracy'])"
      ],
      "metadata": {
        "id": "1-q0z5PHsyyH"
      },
      "id": "1-q0z5PHsyyH",
      "execution_count": null,
      "outputs": []
    },
    {
      "cell_type": "code",
      "source": [
        "es = EarlyStopping(patience=5, restore_best_weights=True, monitor=\"val_accuracy\")\n",
        "\n",
        "model.fit(training_data, training_flags, \n",
        "          epochs=10, batch_size=32, \n",
        "          #validation_data=(X_valid, Y_valid), # validation\n",
        "          callbacks=[es],\n",
        "          verbose=1)"
      ],
      "metadata": {
        "colab": {
          "base_uri": "https://localhost:8080/"
        },
        "id": "TFaBTHmoszEE",
        "outputId": "499518c7-47d5-422a-fee7-39e0b050ecd9"
      },
      "id": "TFaBTHmoszEE",
      "execution_count": null,
      "outputs": [
        {
          "output_type": "stream",
          "name": "stdout",
          "text": [
            "Epoch 1/10\n",
            "779/780 [============================>.] - ETA: 0s - loss: 3.1607 - accuracy: 0.9498"
          ]
        },
        {
          "output_type": "stream",
          "name": "stderr",
          "text": [
            "WARNING:tensorflow:Early stopping conditioned on metric `val_accuracy` which is not available. Available metrics are: loss,accuracy\n"
          ]
        },
        {
          "output_type": "stream",
          "name": "stdout",
          "text": [
            "\b\b\b\b\b\b\b\b\b\b\b\b\b\b\b\b\b\b\b\b\b\b\b\b\b\b\b\b\b\b\b\b\b\b\b\b\b\b\b\b\b\b\b\b\b\b\b\b\b\b\b\b\b\b\b\b\b\b\b\b\b\b\b\b\b\b\b\b\b\b\b\b\b\b\b\b\b\b\b\b\b\b\b\b\r780/780 [==============================] - 11s 11ms/step - loss: 3.1580 - accuracy: 0.9498\n",
            "Epoch 2/10\n",
            "778/780 [============================>.] - ETA: 0s - loss: 0.7058 - accuracy: 0.9579"
          ]
        },
        {
          "output_type": "stream",
          "name": "stderr",
          "text": [
            "WARNING:tensorflow:Early stopping conditioned on metric `val_accuracy` which is not available. Available metrics are: loss,accuracy\n"
          ]
        },
        {
          "output_type": "stream",
          "name": "stdout",
          "text": [
            "\b\b\b\b\b\b\b\b\b\b\b\b\b\b\b\b\b\b\b\b\b\b\b\b\b\b\b\b\b\b\b\b\b\b\b\b\b\b\b\b\b\b\b\b\b\b\b\b\b\b\b\b\b\b\b\b\b\b\b\b\b\b\b\b\b\b\b\b\b\b\b\b\b\b\b\b\b\b\b\b\b\b\b\b\r780/780 [==============================] - 9s 12ms/step - loss: 0.7043 - accuracy: 0.9580\n",
            "Epoch 3/10\n",
            "780/780 [==============================] - ETA: 0s - loss: 0.2373 - accuracy: 0.9663"
          ]
        },
        {
          "output_type": "stream",
          "name": "stderr",
          "text": [
            "WARNING:tensorflow:Early stopping conditioned on metric `val_accuracy` which is not available. Available metrics are: loss,accuracy\n"
          ]
        },
        {
          "output_type": "stream",
          "name": "stdout",
          "text": [
            "\b\b\b\b\b\b\b\b\b\b\b\b\b\b\b\b\b\b\b\b\b\b\b\b\b\b\b\b\b\b\b\b\b\b\b\b\b\b\b\b\b\b\b\b\b\b\b\b\b\b\b\b\b\b\b\b\b\b\b\b\b\b\b\b\b\b\b\b\b\b\b\b\b\b\b\b\b\b\b\b\b\b\b\b\r780/780 [==============================] - 7s 9ms/step - loss: 0.2373 - accuracy: 0.9663\n",
            "Epoch 4/10\n",
            "780/780 [==============================] - ETA: 0s - loss: 0.1748 - accuracy: 0.9731"
          ]
        },
        {
          "output_type": "stream",
          "name": "stderr",
          "text": [
            "WARNING:tensorflow:Early stopping conditioned on metric `val_accuracy` which is not available. Available metrics are: loss,accuracy\n"
          ]
        },
        {
          "output_type": "stream",
          "name": "stdout",
          "text": [
            "\b\b\b\b\b\b\b\b\b\b\b\b\b\b\b\b\b\b\b\b\b\b\b\b\b\b\b\b\b\b\b\b\b\b\b\b\b\b\b\b\b\b\b\b\b\b\b\b\b\b\b\b\b\b\b\b\b\b\b\b\b\b\b\b\b\b\b\b\b\b\b\b\b\b\b\b\b\b\b\b\b\b\b\b\r780/780 [==============================] - 8s 11ms/step - loss: 0.1748 - accuracy: 0.9731\n",
            "Epoch 5/10\n",
            "780/780 [==============================] - ETA: 0s - loss: 0.1669 - accuracy: 0.9766"
          ]
        },
        {
          "output_type": "stream",
          "name": "stderr",
          "text": [
            "WARNING:tensorflow:Early stopping conditioned on metric `val_accuracy` which is not available. Available metrics are: loss,accuracy\n"
          ]
        },
        {
          "output_type": "stream",
          "name": "stdout",
          "text": [
            "\b\b\b\b\b\b\b\b\b\b\b\b\b\b\b\b\b\b\b\b\b\b\b\b\b\b\b\b\b\b\b\b\b\b\b\b\b\b\b\b\b\b\b\b\b\b\b\b\b\b\b\b\b\b\b\b\b\b\b\b\b\b\b\b\b\b\b\b\b\b\b\b\b\b\b\b\b\b\b\b\b\b\b\b\r780/780 [==============================] - 5s 7ms/step - loss: 0.1669 - accuracy: 0.9766\n",
            "Epoch 6/10\n",
            "775/780 [============================>.] - ETA: 0s - loss: 0.2876 - accuracy: 0.9716"
          ]
        },
        {
          "output_type": "stream",
          "name": "stderr",
          "text": [
            "WARNING:tensorflow:Early stopping conditioned on metric `val_accuracy` which is not available. Available metrics are: loss,accuracy\n"
          ]
        },
        {
          "output_type": "stream",
          "name": "stdout",
          "text": [
            "\b\b\b\b\b\b\b\b\b\b\b\b\b\b\b\b\b\b\b\b\b\b\b\b\b\b\b\b\b\b\b\b\b\b\b\b\b\b\b\b\b\b\b\b\b\b\b\b\b\b\b\b\b\b\b\b\b\b\b\b\b\b\b\b\b\b\b\b\b\b\b\b\b\b\b\b\b\b\b\b\b\b\b\b\r780/780 [==============================] - 7s 9ms/step - loss: 0.2860 - accuracy: 0.9717\n",
            "Epoch 7/10\n",
            "770/780 [============================>.] - ETA: 0s - loss: 0.0692 - accuracy: 0.9854"
          ]
        },
        {
          "output_type": "stream",
          "name": "stderr",
          "text": [
            "WARNING:tensorflow:Early stopping conditioned on metric `val_accuracy` which is not available. Available metrics are: loss,accuracy\n"
          ]
        },
        {
          "output_type": "stream",
          "name": "stdout",
          "text": [
            "\b\b\b\b\b\b\b\b\b\b\b\b\b\b\b\b\b\b\b\b\b\b\b\b\b\b\b\b\b\b\b\b\b\b\b\b\b\b\b\b\b\b\b\b\b\b\b\b\b\b\b\b\b\b\b\b\b\b\b\b\b\b\b\b\b\b\b\b\b\b\b\b\b\b\b\b\b\b\b\b\b\b\b\b\r780/780 [==============================] - 4s 5ms/step - loss: 0.0686 - accuracy: 0.9855\n",
            "Epoch 8/10\n",
            "776/780 [============================>.] - ETA: 0s - loss: 0.0518 - accuracy: 0.9877"
          ]
        },
        {
          "output_type": "stream",
          "name": "stderr",
          "text": [
            "WARNING:tensorflow:Early stopping conditioned on metric `val_accuracy` which is not available. Available metrics are: loss,accuracy\n"
          ]
        },
        {
          "output_type": "stream",
          "name": "stdout",
          "text": [
            "\b\b\b\b\b\b\b\b\b\b\b\b\b\b\b\b\b\b\b\b\b\b\b\b\b\b\b\b\b\b\b\b\b\b\b\b\b\b\b\b\b\b\b\b\b\b\b\b\b\b\b\b\b\b\b\b\b\b\b\b\b\b\b\b\b\b\b\b\b\b\b\b\b\b\b\b\b\b\b\b\b\b\b\b\r780/780 [==============================] - 4s 5ms/step - loss: 0.0524 - accuracy: 0.9875\n",
            "Epoch 9/10\n",
            "773/780 [============================>.] - ETA: 0s - loss: 0.0321 - accuracy: 0.9890"
          ]
        },
        {
          "output_type": "stream",
          "name": "stderr",
          "text": [
            "WARNING:tensorflow:Early stopping conditioned on metric `val_accuracy` which is not available. Available metrics are: loss,accuracy\n"
          ]
        },
        {
          "output_type": "stream",
          "name": "stdout",
          "text": [
            "\b\b\b\b\b\b\b\b\b\b\b\b\b\b\b\b\b\b\b\b\b\b\b\b\b\b\b\b\b\b\b\b\b\b\b\b\b\b\b\b\b\b\b\b\b\b\b\b\b\b\b\b\b\b\b\b\b\b\b\b\b\b\b\b\b\b\b\b\b\b\b\b\b\b\b\b\b\b\b\b\b\b\b\b\r780/780 [==============================] - 7s 9ms/step - loss: 0.0320 - accuracy: 0.9891\n",
            "Epoch 10/10\n",
            "775/780 [============================>.] - ETA: 0s - loss: 0.0554 - accuracy: 0.9868"
          ]
        },
        {
          "output_type": "stream",
          "name": "stderr",
          "text": [
            "WARNING:tensorflow:Early stopping conditioned on metric `val_accuracy` which is not available. Available metrics are: loss,accuracy\n"
          ]
        },
        {
          "output_type": "stream",
          "name": "stdout",
          "text": [
            "\b\b\b\b\b\b\b\b\b\b\b\b\b\b\b\b\b\b\b\b\b\b\b\b\b\b\b\b\b\b\b\b\b\b\b\b\b\b\b\b\b\b\b\b\b\b\b\b\b\b\b\b\b\b\b\b\b\b\b\b\b\b\b\b\b\b\b\b\b\b\b\b\b\b\b\b\b\b\b\b\b\b\b\b\r780/780 [==============================] - 5s 6ms/step - loss: 0.0552 - accuracy: 0.9869\n"
          ]
        },
        {
          "output_type": "execute_result",
          "data": {
            "text/plain": [
              "<keras.callbacks.History at 0x7f5d614c5f90>"
            ]
          },
          "metadata": {},
          "execution_count": 15
        }
      ]
    },
    {
      "cell_type": "code",
      "source": [
        "eval = model.evaluate(test_data, test_flags)\n",
        "print(\"Test loss:\",eval[0])\n",
        "print(\"Test accuracy:\",eval[1])"
      ],
      "metadata": {
        "colab": {
          "base_uri": "https://localhost:8080/"
        },
        "id": "XVK-Atc6szWT",
        "outputId": "f597ef6a-9b07-49dd-95be-9c9e5b8dbe7c"
      },
      "id": "XVK-Atc6szWT",
      "execution_count": null,
      "outputs": [
        {
          "output_type": "stream",
          "name": "stdout",
          "text": [
            "195/195 [==============================] - 1s 2ms/step - loss: 0.5875 - accuracy: 0.9934\n",
            "Test loss: 0.5875241160392761\n",
            "Test accuracy: 0.9934273958206177\n"
          ]
        }
      ]
    },
    {
      "cell_type": "code",
      "source": [
        "preds = model.predict(test_data)\n",
        "predsnp = np.array(preds)\n",
        "predsround = np.where(predsnp >= 0.5, 1, 0)\n",
        "conf=confusion_matrix(test_flags,predsround)\n",
        "sns.heatmap(conf, annot=True, fmt='d', vmax=100)"
      ],
      "metadata": {
        "colab": {
          "base_uri": "https://localhost:8080/",
          "height": 471
        },
        "id": "LaIVxqirs10o",
        "outputId": "6811e47f-a24a-4d87-b063-ad019de483d0"
      },
      "id": "LaIVxqirs10o",
      "execution_count": null,
      "outputs": [
        {
          "output_type": "stream",
          "name": "stdout",
          "text": [
            "195/195 [==============================] - 0s 2ms/step\n"
          ]
        },
        {
          "output_type": "execute_result",
          "data": {
            "text/plain": [
              "<Axes: >"
            ]
          },
          "metadata": {},
          "execution_count": 17
        },
        {
          "output_type": "display_data",
          "data": {
            "text/plain": [
              "<Figure size 640x480 with 2 Axes>"
            ],
            "image/png": "[encoded data removed]"
          },
          "metadata": {}
        }
      ]
    },
    {
      "cell_type": "code",
      "source": [
        "print(\"Accuracy: \",accuracy_score(test_flags, predsround))\n",
        "print(\"Precision: \",precision_score(test_flags, predsround, average='macro'))\n",
        "print(\"Recall: \", recall_score(test_flags, predsround, average='macro'))\n",
        "print(\"F1: \",f1_score(test_flags, predsround, average='macro'))\n",
        "ac1 = accuracy_score(test_flags, predsround)\n",
        "pr1 = precision_score(test_flags, predsround, average='macro')\n",
        "rc1 = recall_score(test_flags, predsround, average='macro')\n",
        "f1 = f1_score(test_flags, predsround, average='macro')"
      ],
      "metadata": {
        "colab": {
          "base_uri": "https://localhost:8080/"
        },
        "id": "OpfQaKsEs2IC",
        "outputId": "87167d4e-2639-4cab-d371-067adbc13834"
      },
      "id": "OpfQaKsEs2IC",
      "execution_count": null,
      "outputs": [
        {
          "output_type": "stream",
          "name": "stdout",
          "text": [
            "Accuracy:  0.9934273805706957\n",
            "Precision:  0.9818222281617682\n",
            "Recall:  0.9717260574569131\n",
            "F1:  0.9767099315671317\n"
          ]
        }
      ]
    },
    {
      "cell_type": "markdown",
      "id": "YYOE7wBeecDq",
      "metadata": {
        "id": "YYOE7wBeecDq"
      },
      "source": [
        "# Model Definition"
      ]
    },
    {
      "cell_type": "code",
      "source": [
        "smote = SMOTE(sampling_strategy='minority')\n",
        "training_data_smote, training_flags_smote = smote.fit_resample(training_data, training_flags)"
      ],
      "metadata": {
        "id": "cLrjiFuvs2as"
      },
      "id": "cLrjiFuvs2as",
      "execution_count": null,
      "outputs": []
    },
    {
      "cell_type": "code",
      "source": [
        "model2 = Sequential()\n",
        "model2.add(Dense(128, activation='relu', input_shape = (training_data_smote.shape[1],)))\n",
        "model2.add(Dense(64, activation='relu'))\n",
        "model2.add(Dense(1, activation='sigmoid'))\n",
        "\n",
        "model2.compile(loss='binary_crossentropy', optimizer='adam', metrics=['accuracy'])"
      ],
      "metadata": {
        "id": "cDU4Ddm5s2tJ"
      },
      "id": "cDU4Ddm5s2tJ",
      "execution_count": null,
      "outputs": []
    },
    {
      "cell_type": "markdown",
      "id": "2kXh0y3-ee92",
      "metadata": {
        "id": "2kXh0y3-ee92"
      },
      "source": [
        "# Model Training"
      ]
    },
    {
      "cell_type": "code",
      "source": [
        "es = EarlyStopping(patience=5, restore_best_weights=True, monitor=\"val_accuracy\")\n",
        "\n",
        "model2.fit(training_data_smote, training_flags_smote, \n",
        "          epochs=10, batch_size=32, \n",
        "          #validation_data=(X_valid, Y_valid), # validation\n",
        "          callbacks=[es],\n",
        "          verbose=1)"
      ],
      "metadata": {
        "colab": {
          "base_uri": "https://localhost:8080/"
        },
        "id": "YafKbZvOs3AH",
        "outputId": "8d057296-1cf7-4edb-85fd-7788e272c243"
      },
      "id": "YafKbZvOs3AH",
      "execution_count": null,
      "outputs": [
        {
          "output_type": "stream",
          "name": "stdout",
          "text": [
            "Epoch 1/10\n",
            "1435/1439 [============================>.] - ETA: 0s - loss: 2.2323 - accuracy: 0.8905"
          ]
        },
        {
          "output_type": "stream",
          "name": "stderr",
          "text": [
            "WARNING:tensorflow:Early stopping conditioned on metric `val_accuracy` which is not available. Available metrics are: loss,accuracy\n"
          ]
        },
        {
          "output_type": "stream",
          "name": "stdout",
          "text": [
            "\b\b\b\b\b\b\b\b\b\b\b\b\b\b\b\b\b\b\b\b\b\b\b\b\b\b\b\b\b\b\b\b\b\b\b\b\b\b\b\b\b\b\b\b\b\b\b\b\b\b\b\b\b\b\b\b\b\b\b\b\b\b\b\b\b\b\b\b\b\b\b\b\b\b\b\b\b\b\b\b\b\b\b\b\b\b\r1439/1439 [==============================] - 8s 4ms/step - loss: 2.2272 - accuracy: 0.8905\n",
            "Epoch 2/10\n",
            "1437/1439 [============================>.] - ETA: 0s - loss: 0.1983 - accuracy: 0.9629"
          ]
        },
        {
          "output_type": "stream",
          "name": "stderr",
          "text": [
            "WARNING:tensorflow:Early stopping conditioned on metric `val_accuracy` which is not available. Available metrics are: loss,accuracy\n"
          ]
        },
        {
          "output_type": "stream",
          "name": "stdout",
          "text": [
            "\b\b\b\b\b\b\b\b\b\b\b\b\b\b\b\b\b\b\b\b\b\b\b\b\b\b\b\b\b\b\b\b\b\b\b\b\b\b\b\b\b\b\b\b\b\b\b\b\b\b\b\b\b\b\b\b\b\b\b\b\b\b\b\b\b\b\b\b\b\b\b\b\b\b\b\b\b\b\b\b\b\b\b\b\b\b\r1439/1439 [==============================] - 10s 7ms/step - loss: 0.1980 - accuracy: 0.9630\n",
            "Epoch 3/10\n",
            "1436/1439 [============================>.] - ETA: 0s - loss: 0.3804 - accuracy: 0.9615"
          ]
        },
        {
          "output_type": "stream",
          "name": "stderr",
          "text": [
            "WARNING:tensorflow:Early stopping conditioned on metric `val_accuracy` which is not available. Available metrics are: loss,accuracy\n"
          ]
        },
        {
          "output_type": "stream",
          "name": "stdout",
          "text": [
            "\b\b\b\b\b\b\b\b\b\b\b\b\b\b\b\b\b\b\b\b\b\b\b\b\b\b\b\b\b\b\b\b\b\b\b\b\b\b\b\b\b\b\b\b\b\b\b\b\b\b\b\b\b\b\b\b\b\b\b\b\b\b\b\b\b\b\b\b\b\b\b\b\b\b\b\b\b\b\b\b\b\b\b\b\b\b\r1439/1439 [==============================] - 6s 4ms/step - loss: 0.3798 - accuracy: 0.9616\n",
            "Epoch 4/10\n",
            "1438/1439 [============================>.] - ETA: 0s - loss: 0.0843 - accuracy: 0.9830"
          ]
        },
        {
          "output_type": "stream",
          "name": "stderr",
          "text": [
            "WARNING:tensorflow:Early stopping conditioned on metric `val_accuracy` which is not available. Available metrics are: loss,accuracy\n"
          ]
        },
        {
          "output_type": "stream",
          "name": "stdout",
          "text": [
            "\b\b\b\b\b\b\b\b\b\b\b\b\b\b\b\b\b\b\b\b\b\b\b\b\b\b\b\b\b\b\b\b\b\b\b\b\b\b\b\b\b\b\b\b\b\b\b\b\b\b\b\b\b\b\b\b\b\b\b\b\b\b\b\b\b\b\b\b\b\b\b\b\b\b\b\b\b\b\b\b\b\b\b\b\b\b\r1439/1439 [==============================] - 11s 7ms/step - loss: 0.0843 - accuracy: 0.9831\n",
            "Epoch 5/10\n",
            "1432/1439 [============================>.] - ETA: 0s - loss: 0.1847 - accuracy: 0.9760"
          ]
        },
        {
          "output_type": "stream",
          "name": "stderr",
          "text": [
            "WARNING:tensorflow:Early stopping conditioned on metric `val_accuracy` which is not available. Available metrics are: loss,accuracy\n"
          ]
        },
        {
          "output_type": "stream",
          "name": "stdout",
          "text": [
            "\b\b\b\b\b\b\b\b\b\b\b\b\b\b\b\b\b\b\b\b\b\b\b\b\b\b\b\b\b\b\b\b\b\b\b\b\b\b\b\b\b\b\b\b\b\b\b\b\b\b\b\b\b\b\b\b\b\b\b\b\b\b\b\b\b\b\b\b\b\b\b\b\b\b\b\b\b\b\b\b\b\b\b\b\b\b\r1439/1439 [==============================] - 8s 5ms/step - loss: 0.1840 - accuracy: 0.9760\n",
            "Epoch 6/10\n",
            "1435/1439 [============================>.] - ETA: 0s - loss: 0.0305 - accuracy: 0.9923"
          ]
        },
        {
          "output_type": "stream",
          "name": "stderr",
          "text": [
            "WARNING:tensorflow:Early stopping conditioned on metric `val_accuracy` which is not available. Available metrics are: loss,accuracy\n"
          ]
        },
        {
          "output_type": "stream",
          "name": "stdout",
          "text": [
            "\b\b\b\b\b\b\b\b\b\b\b\b\b\b\b\b\b\b\b\b\b\b\b\b\b\b\b\b\b\b\b\b\b\b\b\b\b\b\b\b\b\b\b\b\b\b\b\b\b\b\b\b\b\b\b\b\b\b\b\b\b\b\b\b\b\b\b\b\b\b\b\b\b\b\b\b\b\b\b\b\b\b\b\b\b\b\r1439/1439 [==============================] - 10s 7ms/step - loss: 0.0305 - accuracy: 0.9923\n",
            "Epoch 7/10\n",
            "1438/1439 [============================>.] - ETA: 0s - loss: 0.0636 - accuracy: 0.9882"
          ]
        },
        {
          "output_type": "stream",
          "name": "stderr",
          "text": [
            "WARNING:tensorflow:Early stopping conditioned on metric `val_accuracy` which is not available. Available metrics are: loss,accuracy\n"
          ]
        },
        {
          "output_type": "stream",
          "name": "stdout",
          "text": [
            "\b\b\b\b\b\b\b\b\b\b\b\b\b\b\b\b\b\b\b\b\b\b\b\b\b\b\b\b\b\b\b\b\b\b\b\b\b\b\b\b\b\b\b\b\b\b\b\b\b\b\b\b\b\b\b\b\b\b\b\b\b\b\b\b\b\b\b\b\b\b\b\b\b\b\b\b\b\b\b\b\b\b\b\b\b\b\r1439/1439 [==============================] - 13s 9ms/step - loss: 0.0636 - accuracy: 0.9882\n",
            "Epoch 8/10\n",
            "1437/1439 [============================>.] - ETA: 0s - loss: 0.0268 - accuracy: 0.9921"
          ]
        },
        {
          "output_type": "stream",
          "name": "stderr",
          "text": [
            "WARNING:tensorflow:Early stopping conditioned on metric `val_accuracy` which is not available. Available metrics are: loss,accuracy\n"
          ]
        },
        {
          "output_type": "stream",
          "name": "stdout",
          "text": [
            "\b\b\b\b\b\b\b\b\b\b\b\b\b\b\b\b\b\b\b\b\b\b\b\b\b\b\b\b\b\b\b\b\b\b\b\b\b\b\b\b\b\b\b\b\b\b\b\b\b\b\b\b\b\b\b\b\b\b\b\b\b\b\b\b\b\b\b\b\b\b\b\b\b\b\b\b\b\b\b\b\b\b\b\b\b\b\r1439/1439 [==============================] - 10s 7ms/step - loss: 0.0268 - accuracy: 0.9922\n",
            "Epoch 9/10\n",
            "1434/1439 [============================>.] - ETA: 0s - loss: 0.0302 - accuracy: 0.9919"
          ]
        },
        {
          "output_type": "stream",
          "name": "stderr",
          "text": [
            "WARNING:tensorflow:Early stopping conditioned on metric `val_accuracy` which is not available. Available metrics are: loss,accuracy\n"
          ]
        },
        {
          "output_type": "stream",
          "name": "stdout",
          "text": [
            "\b\b\b\b\b\b\b\b\b\b\b\b\b\b\b\b\b\b\b\b\b\b\b\b\b\b\b\b\b\b\b\b\b\b\b\b\b\b\b\b\b\b\b\b\b\b\b\b\b\b\b\b\b\b\b\b\b\b\b\b\b\b\b\b\b\b\b\b\b\b\b\b\b\b\b\b\b\b\b\b\b\b\b\b\b\b\r1439/1439 [==============================] - 12s 8ms/step - loss: 0.0302 - accuracy: 0.9919\n",
            "Epoch 10/10\n",
            "1433/1439 [============================>.] - ETA: 0s - loss: 0.0245 - accuracy: 0.9927"
          ]
        },
        {
          "output_type": "stream",
          "name": "stderr",
          "text": [
            "WARNING:tensorflow:Early stopping conditioned on metric `val_accuracy` which is not available. Available metrics are: loss,accuracy\n"
          ]
        },
        {
          "output_type": "stream",
          "name": "stdout",
          "text": [
            "\b\b\b\b\b\b\b\b\b\b\b\b\b\b\b\b\b\b\b\b\b\b\b\b\b\b\b\b\b\b\b\b\b\b\b\b\b\b\b\b\b\b\b\b\b\b\b\b\b\b\b\b\b\b\b\b\b\b\b\b\b\b\b\b\b\b\b\b\b\b\b\b\b\b\b\b\b\b\b\b\b\b\b\b\b\b\r1439/1439 [==============================] - 11s 8ms/step - loss: 0.0244 - accuracy: 0.9927\n"
          ]
        },
        {
          "output_type": "execute_result",
          "data": {
            "text/plain": [
              "<keras.callbacks.History at 0x7f5d5fdbc820>"
            ]
          },
          "metadata": {},
          "execution_count": 21
        }
      ]
    },
    {
      "cell_type": "markdown",
      "id": "olTUFg5ReiKE",
      "metadata": {
        "id": "olTUFg5ReiKE"
      },
      "source": [
        "# Evaluation on test data"
      ]
    },
    {
      "cell_type": "code",
      "source": [
        "eval = model2.evaluate(test_data, test_flags)\n",
        "print(\"Test loss:\",eval[0])\n",
        "print(\"Test accuracy:\",eval[1])"
      ],
      "metadata": {
        "colab": {
          "base_uri": "https://localhost:8080/"
        },
        "id": "as_U7e1Ds3Ta",
        "outputId": "c5e2c808-06ea-484f-97d3-2038884b6a82"
      },
      "id": "as_U7e1Ds3Ta",
      "execution_count": null,
      "outputs": [
        {
          "output_type": "stream",
          "name": "stdout",
          "text": [
            "195/195 [==============================] - 1s 3ms/step - loss: 2.4902 - accuracy: 0.9836\n",
            "Test loss: 2.4902474880218506\n",
            "Test accuracy: 0.9836485981941223\n"
          ]
        }
      ]
    },
    {
      "cell_type": "markdown",
      "id": "1qC1qJ5ielAX",
      "metadata": {
        "id": "1qC1qJ5ielAX"
      },
      "source": [
        "# Confusion matrix"
      ]
    },
    {
      "cell_type": "code",
      "source": [
        "preds = model2.predict(test_data)\n",
        "print(preds)\n",
        "predsnp = np.array(preds)\n",
        "predsround = np.where(predsnp >= 0.5, 1, 0)\n",
        "conf=confusion_matrix(test_flags,predsround)\n",
        "sns.heatmap(conf, annot=True, fmt='d', vmax=100)"
      ],
      "metadata": {
        "colab": {
          "base_uri": "https://localhost:8080/",
          "height": 596
        },
        "id": "iIt4QpNvycd8",
        "outputId": "3e7aef28-7cd3-4e8e-8337-fd9a138ad2a9"
      },
      "id": "iIt4QpNvycd8",
      "execution_count": null,
      "outputs": [
        {
          "output_type": "stream",
          "name": "stdout",
          "text": [
            "195/195 [==============================] - 1s 3ms/step\n",
            "[[9.0895584e-38]\n",
            " [0.0000000e+00]\n",
            " [4.8251029e-14]\n",
            " ...\n",
            " [9.9575201e-12]\n",
            " [2.7830412e-30]\n",
            " [7.9434976e-06]]\n"
          ]
        },
        {
          "output_type": "execute_result",
          "data": {
            "text/plain": [
              "<Axes: >"
            ]
          },
          "metadata": {},
          "execution_count": 23
        },
        {
          "output_type": "display_data",
          "data": {
            "text/plain": [
              "<Figure size 640x480 with 2 Axes>"
            ],
            "image/png": "[encoded data removed]"
          },
          "metadata": {}
        }
      ]
    },
    {
      "cell_type": "code",
      "source": [
        "print(\"Accuracy: \",accuracy_score(test_flags, predsround))\n",
        "print(\"Precision: \",precision_score(test_flags, predsround, average='macro'))\n",
        "print(\"Recall: \", recall_score(test_flags, predsround, average='macro'))\n",
        "print(\"F1: \",f1_score(test_flags, predsround, average='macro'))\n",
        "ac2 = accuracy_score(test_flags, predsround)\n",
        "pr2 = precision_score(test_flags, predsround, average='macro')\n",
        "rc2 = recall_score(test_flags, predsround, average='macro')\n",
        "f2 = f1_score(test_flags, predsround, average='macro')"
      ],
      "metadata": {
        "colab": {
          "base_uri": "https://localhost:8080/"
        },
        "id": "2HO1WuhYyc3x",
        "outputId": "45fd24c0-d170-4a89-8175-4aee5db98d86"
      },
      "id": "2HO1WuhYyc3x",
      "execution_count": null,
      "outputs": [
        {
          "output_type": "stream",
          "name": "stdout",
          "text": [
            "Accuracy:  0.9836486053222186\n",
            "Precision:  0.9136163625504321\n",
            "Recall:  0.9892387232950499\n",
            "F1:  0.9475092041788309\n"
          ]
        }
      ]
    },
    {
      "cell_type": "code",
      "source": [
        "import matplotlib.pyplot as plt\n",
        "labels = ['Accuracy', 'Precision', 'Recall', 'F1 Score']\n",
        "\n",
        "# Values for Model 1 and Model 2\n",
        "model1_values = [ac1, pr1, rc1, f1]\n",
        "model2_values = [ac2, pr2, rc2, f2]\n",
        "\n",
        "# Set the position of the bars on the x-axis\n",
        "x = np.arange(len(labels))\n",
        "\n",
        "# Set the width of the bars\n",
        "bar_width = 0.35\n",
        "\n",
        "# Create the bar graph\n",
        "fig, ax = plt.subplots()\n",
        "rects1 = ax.bar(x - bar_width/2, model1_values, bar_width, label='Model 1')\n",
        "rects2 = ax.bar(x + bar_width/2, model2_values, bar_width, label='Model 2')\n",
        "\n",
        "# Add some text for labels, title, and custom x-axis tick labels\n",
        "ax.set_ylabel('Scores')\n",
        "ax.set_title('Comparison of Model 1 and Model 2')\n",
        "ax.set_xticks(x)\n",
        "ax.set_xticklabels(labels)\n",
        "ax.legend()\n",
        "\n",
        "# Display the bar graph\n",
        "plt.show()"
      ],
      "metadata": {
        "id": "hcfdIG7T0tNq",
        "outputId": "616853b0-e4ee-4d59-bf70-000a59045da6",
        "colab": {
          "base_uri": "https://localhost:8080/",
          "height": 452
        }
      },
      "id": "hcfdIG7T0tNq",
      "execution_count": null,
      "outputs": [
        {
          "output_type": "display_data",
          "data": {
            "text/plain": [
              "<Figure size 640x480 with 1 Axes>"
            ],
            "image/png": "[encoded data removed]"
          },
          "metadata": {}
        }
      ]
    }
  ],
  "metadata": {
    "colab": {
      "provenance": [],
      "include_colab_link": true
    },
    "kernelspec": {
      "display_name": "Python 3 (ipykernel)",
      "language": "python",
      "name": "python3"
    },
    "language_info": {
      "codemirror_mode": {
        "name": "ipython",
        "version": 3
      },
      "file_extension": ".py",
      "mimetype": "text/x-python",
      "name": "python",
      "nbconvert_exporter": "python",
      "pygments_lexer": "ipython3",
      "version": "3.9.0"
    }
  },
  "nbformat": 4,
  "nbformat_minor": 5
}