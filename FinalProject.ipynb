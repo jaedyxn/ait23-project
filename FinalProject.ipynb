{
  "cells": [
    {
      "cell_type": "markdown",
      "metadata": {
        "id": "view-in-github",
        "colab_type": "text"
      },
      "source": [
        "<a href=\"https://colab.research.google.com/github/jaedyxn/ait23-project/blob/main/FinalProject.ipynb\" target=\"_parent\"><img src=\"https://colab.research.google.com/assets/colab-badge.svg\" alt=\"Open In Colab\"/></a>"
      ]
    },
    {
      "cell_type": "code",
      "execution_count": null,
      "id": "5d5b68c3",
      "metadata": {
        "id": "5d5b68c3"
      },
      "outputs": [],
      "source": [
        "import pandas as pd\n",
        "from tensorflow.keras.models import Sequential\n",
        "from tensorflow.keras.utils import to_categorical\n",
        "from tensorflow.keras.layers import Activation, Dense, Flatten, Conv1D, MaxPooling1D, Dropout\n",
        "from tensorflow.keras.callbacks import EarlyStopping\n",
        "from tensorflow.keras.optimizers import SGD\n",
        "from tensorflow.keras.layers import LSTM\n",
        "from tensorflow.keras.optimizers import RMSprop\n",
        "from urllib.request import urlretrieve\n",
        "import numpy as np\n",
        "import random\n",
        "import sys\n",
        "import re, cgi\n",
        "from imblearn.over_sampling import SMOTE\n",
        "from sklearn.model_selection import train_test_split\n",
        "from sklearn.metrics import confusion_matrix, classification_report\n",
        "import seaborn as sns\n",
        "from sklearn.metrics import accuracy_score, recall_score, precision_score, f1_score"
      ]
    },
    {
      "cell_type": "code",
      "source": [
        "from google.colab import drive\n",
        "drive.mount('/content/drive')\n",
        "df = pd.read_csv(\"/content/drive/MyDrive/Colab Notebooks/cleaned.csv\")"
      ],
      "metadata": {
        "colab": {
          "base_uri": "https://localhost:8080/"
        },
        "id": "y8Zqw0b8sxTa",
        "outputId": "f28997dd-1caf-452d-d87b-4fbc4e2cc380"
      },
      "id": "y8Zqw0b8sxTa",
      "execution_count": null,
      "outputs": [
        {
          "output_type": "stream",
          "name": "stdout",
          "text": [
            "Drive already mounted at /content/drive; to attempt to forcibly remount, call drive.mount(\"/content/drive\", force_remount=True).\n"
          ]
        }
      ]
    },
    {
      "cell_type": "code",
      "source": [
        "df.head()"
      ],
      "metadata": {
        "colab": {
          "base_uri": "https://localhost:8080/",
          "height": 317
        },
        "id": "OqluovOOsxlX",
        "outputId": "aea3fd69-cf41-4ea5-f7b2-9b1838b7fb4b"
      },
      "id": "OqluovOOsxlX",
      "execution_count": null,
      "outputs": [
        {
          "output_type": "execute_result",
          "data": {
            "text/plain": [
              "   Unnamed: 0                           CONS_NO  FLAG   1/1/2014  1/10/2014  \\\n",
              "0           0  0387DD8A07E07FDA6271170F86AD9151     1  13.876554  13.876554   \n",
              "1           1  EDFC78B07BA2908B3395C4EB2304665E     1   2.900000   3.420000   \n",
              "2           2  34C1954AA3703C4F8BD8EAEA7C4B7B83     1   0.110000   0.530000   \n",
              "3           3  768309B0EB11FD436CEE5ABFB84F4C0C     1   0.910000   0.860000   \n",
              "4           4  516954F5FF177CE314656D727FCC66A5     1  11.020000   8.240000   \n",
              "\n",
              "   1/11/2014  1/12/2014  1/13/2014  1/14/2014  1/15/2014  ...  9/28/2016  \\\n",
              "0  13.876554  13.876554  13.876554  13.876554  13.876554  ...      10.12   \n",
              "1   3.810000   4.580000   3.560000   4.250000   3.860000  ...      17.77   \n",
              "2   0.450000   0.510000   1.320000   0.710000   0.120000  ...       4.33   \n",
              "3   1.100000   0.660000   5.820000   3.170000   1.180000  ...       2.36   \n",
              "4   7.940000   7.920000   8.310000   7.390000   8.270000  ...      51.36   \n",
              "\n",
              "   9/29/2016  9/3/2016  9/30/2016  9/4/2016  9/5/2016  9/6/2016  9/7/2016  \\\n",
              "0       9.96     16.92       7.60     27.22     18.05     26.47     18.75   \n",
              "1      10.37     15.32      13.51     12.23     14.68     16.35     18.14   \n",
              "2       2.46      1.23       3.19      1.17      1.36      0.56      1.02   \n",
              "3       2.82      2.28       3.70      3.07      4.61      3.13      3.10   \n",
              "4      52.39    113.35      60.89    115.62    108.69     87.88     86.36   \n",
              "\n",
              "   9/8/2016  9/9/2016  \n",
              "0     17.84     14.92  \n",
              "1     18.41     17.31  \n",
              "2      1.96      1.83  \n",
              "3      3.74      3.13  \n",
              "4     81.51     81.75  \n",
              "\n",
              "[5 rows x 1037 columns]"
            ],
            "text/html": [
              "\n",
              "  <div id=\"df-86ae52fc-0397-4cc0-9639-33275538e895\">\n",
              "    <div class=\"colab-df-container\">\n",
              "      <div>\n",
              "<style scoped>\n",
              "    .dataframe tbody tr th:only-of-type {\n",
              "        vertical-align: middle;\n",
              "    }\n",
              "\n",
              "    .dataframe tbody tr th {\n",
              "        vertical-align: top;\n",
              "    }\n",
              "\n",
              "    .dataframe thead th {\n",
              "        text-align: right;\n",
              "    }\n",
              "</style>\n",
              "<table border=\"1\" class=\"dataframe\">\n",
              "  <thead>\n",
              "    <tr style=\"text-align: right;\">\n",
              "      <th></th>\n",
              "      <th>Unnamed: 0</th>\n",
              "      <th>CONS_NO</th>\n",
              "      <th>FLAG</th>\n",
              "      <th>1/1/2014</th>\n",
              "      <th>1/10/2014</th>\n",
              "      <th>1/11/2014</th>\n",
              "      <th>1/12/2014</th>\n",
              "      <th>1/13/2014</th>\n",
              "      <th>1/14/2014</th>\n",
              "      <th>1/15/2014</th>\n",
              "      <th>...</th>\n",
              "      <th>9/28/2016</th>\n",
              "      <th>9/29/2016</th>\n",
              "      <th>9/3/2016</th>\n",
              "      <th>9/30/2016</th>\n",
              "      <th>9/4/2016</th>\n",
              "      <th>9/5/2016</th>\n",
              "      <th>9/6/2016</th>\n",
              "      <th>9/7/2016</th>\n",
              "      <th>9/8/2016</th>\n",
              "      <th>9/9/2016</th>\n",
              "    </tr>\n",
              "  </thead>\n",
              "  <tbody>\n",
              "    <tr>\n",
              "      <th>0</th>\n",
              "      <td>0</td>\n",
              "      <td>0387DD8A07E07FDA6271170F86AD9151</td>\n",
              "      <td>1</td>\n",
              "      <td>13.876554</td>\n",
              "      <td>13.876554</td>\n",
              "      <td>13.876554</td>\n",
              "      <td>13.876554</td>\n",
              "      <td>13.876554</td>\n",
              "      <td>13.876554</td>\n",
              "      <td>13.876554</td>\n",
              "      <td>...</td>\n",
              "      <td>10.12</td>\n",
              "      <td>9.96</td>\n",
              "      <td>16.92</td>\n",
              "      <td>7.60</td>\n",
              "      <td>27.22</td>\n",
              "      <td>18.05</td>\n",
              "      <td>26.47</td>\n",
              "      <td>18.75</td>\n",
              "      <td>17.84</td>\n",
              "      <td>14.92</td>\n",
              "    </tr>\n",
              "    <tr>\n",
              "      <th>1</th>\n",
              "      <td>1</td>\n",
              "      <td>EDFC78B07BA2908B3395C4EB2304665E</td>\n",
              "      <td>1</td>\n",
              "      <td>2.900000</td>\n",
              "      <td>3.420000</td>\n",
              "      <td>3.810000</td>\n",
              "      <td>4.580000</td>\n",
              "      <td>3.560000</td>\n",
              "      <td>4.250000</td>\n",
              "      <td>3.860000</td>\n",
              "      <td>...</td>\n",
              "      <td>17.77</td>\n",
              "      <td>10.37</td>\n",
              "      <td>15.32</td>\n",
              "      <td>13.51</td>\n",
              "      <td>12.23</td>\n",
              "      <td>14.68</td>\n",
              "      <td>16.35</td>\n",
              "      <td>18.14</td>\n",
              "      <td>18.41</td>\n",
              "      <td>17.31</td>\n",
              "    </tr>\n",
              "    <tr>\n",
              "      <th>2</th>\n",
              "      <td>2</td>\n",
              "      <td>34C1954AA3703C4F8BD8EAEA7C4B7B83</td>\n",
              "      <td>1</td>\n",
              "      <td>0.110000</td>\n",
              "      <td>0.530000</td>\n",
              "      <td>0.450000</td>\n",
              "      <td>0.510000</td>\n",
              "      <td>1.320000</td>\n",
              "      <td>0.710000</td>\n",
              "      <td>0.120000</td>\n",
              "      <td>...</td>\n",
              "      <td>4.33</td>\n",
              "      <td>2.46</td>\n",
              "      <td>1.23</td>\n",
              "      <td>3.19</td>\n",
              "      <td>1.17</td>\n",
              "      <td>1.36</td>\n",
              "      <td>0.56</td>\n",
              "      <td>1.02</td>\n",
              "      <td>1.96</td>\n",
              "      <td>1.83</td>\n",
              "    </tr>\n",
              "    <tr>\n",
              "      <th>3</th>\n",
              "      <td>3</td>\n",
              "      <td>768309B0EB11FD436CEE5ABFB84F4C0C</td>\n",
              "      <td>1</td>\n",
              "      <td>0.910000</td>\n",
              "      <td>0.860000</td>\n",
              "      <td>1.100000</td>\n",
              "      <td>0.660000</td>\n",
              "      <td>5.820000</td>\n",
              "      <td>3.170000</td>\n",
              "      <td>1.180000</td>\n",
              "      <td>...</td>\n",
              "      <td>2.36</td>\n",
              "      <td>2.82</td>\n",
              "      <td>2.28</td>\n",
              "      <td>3.70</td>\n",
              "      <td>3.07</td>\n",
              "      <td>4.61</td>\n",
              "      <td>3.13</td>\n",
              "      <td>3.10</td>\n",
              "      <td>3.74</td>\n",
              "      <td>3.13</td>\n",
              "    </tr>\n",
              "    <tr>\n",
              "      <th>4</th>\n",
              "      <td>4</td>\n",
              "      <td>516954F5FF177CE314656D727FCC66A5</td>\n",
              "      <td>1</td>\n",
              "      <td>11.020000</td>\n",
              "      <td>8.240000</td>\n",
              "      <td>7.940000</td>\n",
              "      <td>7.920000</td>\n",
              "      <td>8.310000</td>\n",
              "      <td>7.390000</td>\n",
              "      <td>8.270000</td>\n",
              "      <td>...</td>\n",
              "      <td>51.36</td>\n",
              "      <td>52.39</td>\n",
              "      <td>113.35</td>\n",
              "      <td>60.89</td>\n",
              "      <td>115.62</td>\n",
              "      <td>108.69</td>\n",
              "      <td>87.88</td>\n",
              "      <td>86.36</td>\n",
              "      <td>81.51</td>\n",
              "      <td>81.75</td>\n",
              "    </tr>\n",
              "  </tbody>\n",
              "</table>\n",
              "<p>5 rows × 1037 columns</p>\n",
              "</div>\n",
              "      <button class=\"colab-df-convert\" onclick=\"convertToInteractive('df-86ae52fc-0397-4cc0-9639-33275538e895')\"\n",
              "              title=\"Convert this dataframe to an interactive table.\"\n",
              "              style=\"display:none;\">\n",
              "        \n",
              "  <svg xmlns=\"http://www.w3.org/2000/svg\" height=\"24px\"viewBox=\"0 0 24 24\"\n",
              "       width=\"24px\">\n",
              "    <path d=\"M0 0h24v24H0V0z\" fill=\"none\"/>\n",
              "    <path d=\"M18.56 5.44l.94 2.06.94-2.06 2.06-.94-2.06-.94-.94-2.06-.94 2.06-2.06.94zm-11 1L8.5 8.5l.94-2.06 2.06-.94-2.06-.94L8.5 2.5l-.94 2.06-2.06.94zm10 10l.94 2.06.94-2.06 2.06-.94-2.06-.94-.94-2.06-.94 2.06-2.06.94z\"/><path d=\"M17.41 7.96l-1.37-1.37c-.4-.4-.92-.59-1.43-.59-.52 0-1.04.2-1.43.59L10.3 9.45l-7.72 7.72c-.78.78-.78 2.05 0 2.83L4 21.41c.39.39.9.59 1.41.59.51 0 1.02-.2 1.41-.59l7.78-7.78 2.81-2.81c.8-.78.8-2.07 0-2.86zM5.41 20L4 18.59l7.72-7.72 1.47 1.35L5.41 20z\"/>\n",
              "  </svg>\n",
              "      </button>\n",
              "      \n",
              "  <style>\n",
              "    .colab-df-container {\n",
              "      display:flex;\n",
              "      flex-wrap:wrap;\n",
              "      gap: 12px;\n",
              "    }\n",
              "\n",
              "    .colab-df-convert {\n",
              "      background-color: #E8F0FE;\n",
              "      border: none;\n",
              "      border-radius: 50%;\n",
              "      cursor: pointer;\n",
              "      display: none;\n",
              "      fill: #1967D2;\n",
              "      height: 32px;\n",
              "      padding: 0 0 0 0;\n",
              "      width: 32px;\n",
              "    }\n",
              "\n",
              "    .colab-df-convert:hover {\n",
              "      background-color: #E2EBFA;\n",
              "      box-shadow: 0px 1px 2px rgba(60, 64, 67, 0.3), 0px 1px 3px 1px rgba(60, 64, 67, 0.15);\n",
              "      fill: #174EA6;\n",
              "    }\n",
              "\n",
              "    [theme=dark] .colab-df-convert {\n",
              "      background-color: #3B4455;\n",
              "      fill: #D2E3FC;\n",
              "    }\n",
              "\n",
              "    [theme=dark] .colab-df-convert:hover {\n",
              "      background-color: #434B5C;\n",
              "      box-shadow: 0px 1px 3px 1px rgba(0, 0, 0, 0.15);\n",
              "      filter: drop-shadow(0px 1px 2px rgba(0, 0, 0, 0.3));\n",
              "      fill: #FFFFFF;\n",
              "    }\n",
              "  </style>\n",
              "\n",
              "      <script>\n",
              "        const buttonEl =\n",
              "          document.querySelector('#df-86ae52fc-0397-4cc0-9639-33275538e895 button.colab-df-convert');\n",
              "        buttonEl.style.display =\n",
              "          google.colab.kernel.accessAllowed ? 'block' : 'none';\n",
              "\n",
              "        async function convertToInteractive(key) {\n",
              "          const element = document.querySelector('#df-86ae52fc-0397-4cc0-9639-33275538e895');\n",
              "          const dataTable =\n",
              "            await google.colab.kernel.invokeFunction('convertToInteractive',\n",
              "                                                     [key], {});\n",
              "          if (!dataTable) return;\n",
              "\n",
              "          const docLinkHtml = 'Like what you see? Visit the ' +\n",
              "            '<a target=\"_blank\" href=https://colab.research.google.com/notebooks/data_table.ipynb>data table notebook</a>'\n",
              "            + ' to learn more about interactive tables.';\n",
              "          element.innerHTML = '';\n",
              "          dataTable['output_type'] = 'display_data';\n",
              "          await google.colab.output.renderOutput(dataTable, element);\n",
              "          const docLink = document.createElement('div');\n",
              "          docLink.innerHTML = docLinkHtml;\n",
              "          element.appendChild(docLink);\n",
              "        }\n",
              "      </script>\n",
              "    </div>\n",
              "  </div>\n",
              "  "
            ]
          },
          "metadata": {},
          "execution_count": 136
        }
      ]
    },
    {
      "cell_type": "code",
      "source": [
        "def data_split(df, flag, label):\n",
        "    flags = np.array(df[flag])\n",
        "    df = df.drop(flag, axis=1)\n",
        "    df = df.drop(label, axis=1)\n",
        "    df = np.array(df)\n",
        "    return flags, df"
      ],
      "metadata": {
        "id": "RPApFkQNsx3R"
      },
      "id": "RPApFkQNsx3R",
      "execution_count": null,
      "outputs": []
    },
    {
      "cell_type": "code",
      "source": [
        "train, test = train_test_split(df, test_size=.2, random_state=42, stratify=df['FLAG'])"
      ],
      "metadata": {
        "id": "UxxyvnoDsyJ-"
      },
      "id": "UxxyvnoDsyJ-",
      "execution_count": null,
      "outputs": []
    },
    {
      "cell_type": "code",
      "source": [
        "training_flags, training_data = data_split(train, 'FLAG', 'CONS_NO')"
      ],
      "metadata": {
        "id": "VgSn1yW4vogq"
      },
      "id": "VgSn1yW4vogq",
      "execution_count": null,
      "outputs": []
    },
    {
      "cell_type": "code",
      "source": [
        "test_flags, test_data = data_split(test, 'FLAG', 'CONS_NO')"
      ],
      "metadata": {
        "id": "r7P2_7AWsydA"
      },
      "id": "r7P2_7AWsydA",
      "execution_count": null,
      "outputs": []
    },
    {
      "cell_type": "code",
      "source": [
        "model = Sequential()\n",
        "model.add(Dense(128, activation='relu', input_shape = (training_data.shape[1],)))\n",
        "model.add(Dense(64, activation='relu'))\n",
        "model.add(Dense(1, activation='sigmoid'))\n",
        "\n",
        "model.compile(loss='binary_crossentropy', optimizer='adam', metrics=['accuracy'])"
      ],
      "metadata": {
        "id": "1-q0z5PHsyyH"
      },
      "id": "1-q0z5PHsyyH",
      "execution_count": null,
      "outputs": []
    },
    {
      "cell_type": "code",
      "source": [
        "es = EarlyStopping(patience=5, restore_best_weights=True, monitor=\"val_accuracy\")\n",
        "\n",
        "model.fit(training_data, training_flags, \n",
        "          epochs=10, batch_size=32, \n",
        "          #validation_data=(X_valid, Y_valid), # validation\n",
        "          callbacks=[es],\n",
        "          verbose=1)"
      ],
      "metadata": {
        "colab": {
          "base_uri": "https://localhost:8080/"
        },
        "id": "TFaBTHmoszEE",
        "outputId": "32ef5cf7-7d5d-44e5-efe0-1008dac4cb71"
      },
      "id": "TFaBTHmoszEE",
      "execution_count": null,
      "outputs": [
        {
          "output_type": "stream",
          "name": "stdout",
          "text": [
            "Epoch 1/10\n",
            "773/780 [============================>.] - ETA: 0s - loss: 4.3264 - accuracy: 0.9486"
          ]
        },
        {
          "output_type": "stream",
          "name": "stderr",
          "text": [
            "WARNING:tensorflow:Early stopping conditioned on metric `val_accuracy` which is not available. Available metrics are: loss,accuracy\n"
          ]
        },
        {
          "output_type": "stream",
          "name": "stdout",
          "text": [
            "\b\b\b\b\b\b\b\b\b\b\b\b\b\b\b\b\b\b\b\b\b\b\b\b\b\b\b\b\b\b\b\b\b\b\b\b\b\b\b\b\b\b\b\b\b\b\b\b\b\b\b\b\b\b\b\b\b\b\b\b\b\b\b\b\b\b\b\b\b\b\b\b\b\b\b\b\b\b\b\b\b\b\b\b\r780/780 [==============================] - 4s 5ms/step - loss: 4.2990 - accuracy: 0.9486\n",
            "Epoch 2/10\n",
            "771/780 [============================>.] - ETA: 0s - loss: 1.3974 - accuracy: 0.9550"
          ]
        },
        {
          "output_type": "stream",
          "name": "stderr",
          "text": [
            "WARNING:tensorflow:Early stopping conditioned on metric `val_accuracy` which is not available. Available metrics are: loss,accuracy\n"
          ]
        },
        {
          "output_type": "stream",
          "name": "stdout",
          "text": [
            "\b\b\b\b\b\b\b\b\b\b\b\b\b\b\b\b\b\b\b\b\b\b\b\b\b\b\b\b\b\b\b\b\b\b\b\b\b\b\b\b\b\b\b\b\b\b\b\b\b\b\b\b\b\b\b\b\b\b\b\b\b\b\b\b\b\b\b\b\b\b\b\b\b\b\b\b\b\b\b\b\b\b\b\b\r780/780 [==============================] - 4s 5ms/step - loss: 1.4091 - accuracy: 0.9549\n",
            "Epoch 3/10\n",
            "775/780 [============================>.] - ETA: 0s - loss: 1.0345 - accuracy: 0.9589"
          ]
        },
        {
          "output_type": "stream",
          "name": "stderr",
          "text": [
            "WARNING:tensorflow:Early stopping conditioned on metric `val_accuracy` which is not available. Available metrics are: loss,accuracy\n"
          ]
        },
        {
          "output_type": "stream",
          "name": "stdout",
          "text": [
            "\b\b\b\b\b\b\b\b\b\b\b\b\b\b\b\b\b\b\b\b\b\b\b\b\b\b\b\b\b\b\b\b\b\b\b\b\b\b\b\b\b\b\b\b\b\b\b\b\b\b\b\b\b\b\b\b\b\b\b\b\b\b\b\b\b\b\b\b\b\b\b\b\b\b\b\b\b\b\b\b\b\b\b\b\r780/780 [==============================] - 5s 7ms/step - loss: 1.0592 - accuracy: 0.9588\n",
            "Epoch 4/10\n",
            "770/780 [============================>.] - ETA: 0s - loss: 0.3017 - accuracy: 0.9698"
          ]
        },
        {
          "output_type": "stream",
          "name": "stderr",
          "text": [
            "WARNING:tensorflow:Early stopping conditioned on metric `val_accuracy` which is not available. Available metrics are: loss,accuracy\n"
          ]
        },
        {
          "output_type": "stream",
          "name": "stdout",
          "text": [
            "\b\b\b\b\b\b\b\b\b\b\b\b\b\b\b\b\b\b\b\b\b\b\b\b\b\b\b\b\b\b\b\b\b\b\b\b\b\b\b\b\b\b\b\b\b\b\b\b\b\b\b\b\b\b\b\b\b\b\b\b\b\b\b\b\b\b\b\b\b\b\b\b\b\b\b\b\b\b\b\b\b\b\b\b\r780/780 [==============================] - 4s 5ms/step - loss: 0.3004 - accuracy: 0.9697\n",
            "Epoch 5/10\n",
            "779/780 [============================>.] - ETA: 0s - loss: 0.0632 - accuracy: 0.9856"
          ]
        },
        {
          "output_type": "stream",
          "name": "stderr",
          "text": [
            "WARNING:tensorflow:Early stopping conditioned on metric `val_accuracy` which is not available. Available metrics are: loss,accuracy\n"
          ]
        },
        {
          "output_type": "stream",
          "name": "stdout",
          "text": [
            "\b\b\b\b\b\b\b\b\b\b\b\b\b\b\b\b\b\b\b\b\b\b\b\b\b\b\b\b\b\b\b\b\b\b\b\b\b\b\b\b\b\b\b\b\b\b\b\b\b\b\b\b\b\b\b\b\b\b\b\b\b\b\b\b\b\b\b\b\b\b\b\b\b\b\b\b\b\b\b\b\b\b\b\b\r780/780 [==============================] - 4s 5ms/step - loss: 0.0637 - accuracy: 0.9855\n",
            "Epoch 6/10\n",
            "775/780 [============================>.] - ETA: 0s - loss: 0.1633 - accuracy: 0.9770"
          ]
        },
        {
          "output_type": "stream",
          "name": "stderr",
          "text": [
            "WARNING:tensorflow:Early stopping conditioned on metric `val_accuracy` which is not available. Available metrics are: loss,accuracy\n"
          ]
        },
        {
          "output_type": "stream",
          "name": "stdout",
          "text": [
            "\b\b\b\b\b\b\b\b\b\b\b\b\b\b\b\b\b\b\b\b\b\b\b\b\b\b\b\b\b\b\b\b\b\b\b\b\b\b\b\b\b\b\b\b\b\b\b\b\b\b\b\b\b\b\b\b\b\b\b\b\b\b\b\b\b\b\b\b\b\b\b\b\b\b\b\b\b\b\b\b\b\b\b\b\r780/780 [==============================] - 4s 5ms/step - loss: 0.1627 - accuracy: 0.9771\n",
            "Epoch 7/10\n",
            "776/780 [============================>.] - ETA: 0s - loss: 0.1929 - accuracy: 0.9762"
          ]
        },
        {
          "output_type": "stream",
          "name": "stderr",
          "text": [
            "WARNING:tensorflow:Early stopping conditioned on metric `val_accuracy` which is not available. Available metrics are: loss,accuracy\n"
          ]
        },
        {
          "output_type": "stream",
          "name": "stdout",
          "text": [
            "\b\b\b\b\b\b\b\b\b\b\b\b\b\b\b\b\b\b\b\b\b\b\b\b\b\b\b\b\b\b\b\b\b\b\b\b\b\b\b\b\b\b\b\b\b\b\b\b\b\b\b\b\b\b\b\b\b\b\b\b\b\b\b\b\b\b\b\b\b\b\b\b\b\b\b\b\b\b\b\b\b\b\b\b\r780/780 [==============================] - 5s 7ms/step - loss: 0.1976 - accuracy: 0.9760\n",
            "Epoch 8/10\n",
            "778/780 [============================>.] - ETA: 0s - loss: 0.1811 - accuracy: 0.9822"
          ]
        },
        {
          "output_type": "stream",
          "name": "stderr",
          "text": [
            "WARNING:tensorflow:Early stopping conditioned on metric `val_accuracy` which is not available. Available metrics are: loss,accuracy\n"
          ]
        },
        {
          "output_type": "stream",
          "name": "stdout",
          "text": [
            "\b\b\b\b\b\b\b\b\b\b\b\b\b\b\b\b\b\b\b\b\b\b\b\b\b\b\b\b\b\b\b\b\b\b\b\b\b\b\b\b\b\b\b\b\b\b\b\b\b\b\b\b\b\b\b\b\b\b\b\b\b\b\b\b\b\b\b\b\b\b\b\b\b\b\b\b\b\b\b\b\b\b\b\b\r780/780 [==============================] - 4s 5ms/step - loss: 0.1807 - accuracy: 0.9822\n",
            "Epoch 9/10\n",
            "776/780 [============================>.] - ETA: 0s - loss: 0.0286 - accuracy: 0.9907"
          ]
        },
        {
          "output_type": "stream",
          "name": "stderr",
          "text": [
            "WARNING:tensorflow:Early stopping conditioned on metric `val_accuracy` which is not available. Available metrics are: loss,accuracy\n"
          ]
        },
        {
          "output_type": "stream",
          "name": "stdout",
          "text": [
            "\b\b\b\b\b\b\b\b\b\b\b\b\b\b\b\b\b\b\b\b\b\b\b\b\b\b\b\b\b\b\b\b\b\b\b\b\b\b\b\b\b\b\b\b\b\b\b\b\b\b\b\b\b\b\b\b\b\b\b\b\b\b\b\b\b\b\b\b\b\b\b\b\b\b\b\b\b\b\b\b\b\b\b\b\r780/780 [==============================] - 4s 5ms/step - loss: 0.0286 - accuracy: 0.9907\n",
            "Epoch 10/10\n",
            "776/780 [============================>.] - ETA: 0s - loss: 0.0358 - accuracy: 0.9887"
          ]
        },
        {
          "output_type": "stream",
          "name": "stderr",
          "text": [
            "WARNING:tensorflow:Early stopping conditioned on metric `val_accuracy` which is not available. Available metrics are: loss,accuracy\n"
          ]
        },
        {
          "output_type": "stream",
          "name": "stdout",
          "text": [
            "\b\b\b\b\b\b\b\b\b\b\b\b\b\b\b\b\b\b\b\b\b\b\b\b\b\b\b\b\b\b\b\b\b\b\b\b\b\b\b\b\b\b\b\b\b\b\b\b\b\b\b\b\b\b\b\b\b\b\b\b\b\b\b\b\b\b\b\b\b\b\b\b\b\b\b\b\b\b\b\b\b\b\b\b\r780/780 [==============================] - 5s 6ms/step - loss: 0.0356 - accuracy: 0.9887\n"
          ]
        },
        {
          "output_type": "execute_result",
          "data": {
            "text/plain": [
              "<keras.callbacks.History at 0x7fa9913452d0>"
            ]
          },
          "metadata": {},
          "execution_count": 142
        }
      ]
    },
    {
      "cell_type": "code",
      "source": [
        "eval = model.evaluate(test_data, test_flags)\n",
        "print(\"Test loss:\",eval[0])\n",
        "print(\"Test accuracy:\",eval[1])"
      ],
      "metadata": {
        "colab": {
          "base_uri": "https://localhost:8080/"
        },
        "id": "XVK-Atc6szWT",
        "outputId": "f42e479f-2163-4cfc-b7ce-09f428e8911d"
      },
      "id": "XVK-Atc6szWT",
      "execution_count": null,
      "outputs": [
        {
          "output_type": "stream",
          "name": "stdout",
          "text": [
            "195/195 [==============================] - 1s 2ms/step - loss: 2.2443 - accuracy: 0.9870\n",
            "Test loss: 2.244290351867676\n",
            "Test accuracy: 0.9870150685310364\n"
          ]
        }
      ]
    },
    {
      "cell_type": "code",
      "source": [
        "preds = model.predict(test_data)\n",
        "predsnp = np.array(preds)\n",
        "predsround = np.where(predsnp >= 0.5, 1, 0)\n",
        "conf=confusion_matrix(test_flags,predsround)\n",
        "sns.heatmap(conf, annot=True, fmt='d', vmax=100)"
      ],
      "metadata": {
        "colab": {
          "base_uri": "https://localhost:8080/",
          "height": 472
        },
        "id": "LaIVxqirs10o",
        "outputId": "a9769612-185a-491f-cc34-cac05d8ad0e7"
      },
      "id": "LaIVxqirs10o",
      "execution_count": null,
      "outputs": [
        {
          "output_type": "stream",
          "name": "stdout",
          "text": [
            "195/195 [==============================] - 1s 3ms/step\n"
          ]
        },
        {
          "output_type": "execute_result",
          "data": {
            "text/plain": [
              "<Axes: >"
            ]
          },
          "metadata": {},
          "execution_count": 144
        },
        {
          "output_type": "display_data",
          "data": {
            "text/plain": [
              "<Figure size 640x480 with 2 Axes>"
            ],
            "image/png": "[encoded data removed]"
          },
          "metadata": {}
        }
      ]
    },
    {
      "cell_type": "code",
      "source": [
        "print(\"Accuracy: \",accuracy_score(test_flags, predsround))\n",
        "print(\"Precision: \",precision_score(test_flags, predsround, average='macro'))\n",
        "print(\"Recall: \", recall_score(test_flags, predsround, average='macro'))\n",
        "print(\"F1: \",f1_score(test_flags, predsround, average='macro'))"
      ],
      "metadata": {
        "colab": {
          "base_uri": "https://localhost:8080/"
        },
        "id": "OpfQaKsEs2IC",
        "outputId": "4e3b1c80-f061-4b95-ff4b-f29e01c36e7d"
      },
      "id": "OpfQaKsEs2IC",
      "execution_count": null,
      "outputs": [
        {
          "output_type": "stream",
          "name": "stdout",
          "text": [
            "Accuracy:  0.9870150689323501\n",
            "Precision:  0.9896261066729254\n",
            "Recall:  0.9188265392922125\n",
            "F1:  0.9509478981477535\n"
          ]
        }
      ]
    },
    {
      "cell_type": "code",
      "source": [],
      "metadata": {
        "id": "7DnqdK_Jwnii"
      },
      "id": "7DnqdK_Jwnii",
      "execution_count": null,
      "outputs": []
    },
    {
      "cell_type": "code",
      "source": [],
      "metadata": {
        "id": "v3KPIjxRwn75"
      },
      "id": "v3KPIjxRwn75",
      "execution_count": null,
      "outputs": []
    },
    {
      "cell_type": "markdown",
      "id": "YYOE7wBeecDq",
      "metadata": {
        "id": "YYOE7wBeecDq"
      },
      "source": [
        "# Model Definition"
      ]
    },
    {
      "cell_type": "code",
      "source": [
        "smote = SMOTE(sampling_strategy='minority')\n",
        "training_data_smote, training_flags_smote = smote.fit_resample(training_data, training_flags)"
      ],
      "metadata": {
        "id": "cLrjiFuvs2as"
      },
      "id": "cLrjiFuvs2as",
      "execution_count": null,
      "outputs": []
    },
    {
      "cell_type": "code",
      "source": [
        "model2 = Sequential()\n",
        "model2.add(Dense(128, activation='relu', input_shape = (training_data_smote.shape[1],)))\n",
        "model2.add(Dense(64, activation='relu'))\n",
        "model2.add(Dense(1, activation='sigmoid'))\n",
        "\n",
        "model2.compile(loss='binary_crossentropy', optimizer='adam', metrics=['accuracy'])"
      ],
      "metadata": {
        "id": "cDU4Ddm5s2tJ"
      },
      "id": "cDU4Ddm5s2tJ",
      "execution_count": null,
      "outputs": []
    },
    {
      "cell_type": "markdown",
      "id": "2kXh0y3-ee92",
      "metadata": {
        "id": "2kXh0y3-ee92"
      },
      "source": [
        "# Model Training"
      ]
    },
    {
      "cell_type": "code",
      "source": [
        "es = EarlyStopping(patience=5, restore_best_weights=True, monitor=\"val_accuracy\")\n",
        "\n",
        "model2.fit(training_data_smote, training_flags_smote, \n",
        "          epochs=10, batch_size=32, \n",
        "          #validation_data=(X_valid, Y_valid), # validation\n",
        "          callbacks=[es],\n",
        "          verbose=1)"
      ],
      "metadata": {
        "colab": {
          "base_uri": "https://localhost:8080/"
        },
        "id": "YafKbZvOs3AH",
        "outputId": "599aa67d-377e-4f95-ef0d-21f7cc298e0c"
      },
      "id": "YafKbZvOs3AH",
      "execution_count": null,
      "outputs": [
        {
          "output_type": "stream",
          "name": "stdout",
          "text": [
            "Epoch 1/10\n",
            "1436/1439 [============================>.] - ETA: 0s - loss: 2.2285 - accuracy: 0.8963"
          ]
        },
        {
          "output_type": "stream",
          "name": "stderr",
          "text": [
            "WARNING:tensorflow:Early stopping conditioned on metric `val_accuracy` which is not available. Available metrics are: loss,accuracy\n"
          ]
        },
        {
          "output_type": "stream",
          "name": "stdout",
          "text": [
            "\b\b\b\b\b\b\b\b\b\b\b\b\b\b\b\b\b\b\b\b\b\b\b\b\b\b\b\b\b\b\b\b\b\b\b\b\b\b\b\b\b\b\b\b\b\b\b\b\b\b\b\b\b\b\b\b\b\b\b\b\b\b\b\b\b\b\b\b\b\b\b\b\b\b\b\b\b\b\b\b\b\b\b\b\b\b\r1439/1439 [==============================] - 10s 6ms/step - loss: 2.2241 - accuracy: 0.8965\n",
            "Epoch 2/10\n",
            "1435/1439 [============================>.] - ETA: 0s - loss: 0.2573 - accuracy: 0.9567"
          ]
        },
        {
          "output_type": "stream",
          "name": "stderr",
          "text": [
            "WARNING:tensorflow:Early stopping conditioned on metric `val_accuracy` which is not available. Available metrics are: loss,accuracy\n"
          ]
        },
        {
          "output_type": "stream",
          "name": "stdout",
          "text": [
            "\b\b\b\b\b\b\b\b\b\b\b\b\b\b\b\b\b\b\b\b\b\b\b\b\b\b\b\b\b\b\b\b\b\b\b\b\b\b\b\b\b\b\b\b\b\b\b\b\b\b\b\b\b\b\b\b\b\b\b\b\b\b\b\b\b\b\b\b\b\b\b\b\b\b\b\b\b\b\b\b\b\b\b\b\b\b\r1439/1439 [==============================] - 7s 5ms/step - loss: 0.2567 - accuracy: 0.9568\n",
            "Epoch 3/10\n",
            "1431/1439 [============================>.] - ETA: 0s - loss: 0.0913 - accuracy: 0.9838"
          ]
        },
        {
          "output_type": "stream",
          "name": "stderr",
          "text": [
            "WARNING:tensorflow:Early stopping conditioned on metric `val_accuracy` which is not available. Available metrics are: loss,accuracy\n"
          ]
        },
        {
          "output_type": "stream",
          "name": "stdout",
          "text": [
            "\b\b\b\b\b\b\b\b\b\b\b\b\b\b\b\b\b\b\b\b\b\b\b\b\b\b\b\b\b\b\b\b\b\b\b\b\b\b\b\b\b\b\b\b\b\b\b\b\b\b\b\b\b\b\b\b\b\b\b\b\b\b\b\b\b\b\b\b\b\b\b\b\b\b\b\b\b\b\b\b\b\b\b\b\b\b\r1439/1439 [==============================] - 8s 6ms/step - loss: 0.0910 - accuracy: 0.9838\n",
            "Epoch 4/10\n",
            "1433/1439 [============================>.] - ETA: 0s - loss: 0.0537 - accuracy: 0.9874"
          ]
        },
        {
          "output_type": "stream",
          "name": "stderr",
          "text": [
            "WARNING:tensorflow:Early stopping conditioned on metric `val_accuracy` which is not available. Available metrics are: loss,accuracy\n"
          ]
        },
        {
          "output_type": "stream",
          "name": "stdout",
          "text": [
            "\b\b\b\b\b\b\b\b\b\b\b\b\b\b\b\b\b\b\b\b\b\b\b\b\b\b\b\b\b\b\b\b\b\b\b\b\b\b\b\b\b\b\b\b\b\b\b\b\b\b\b\b\b\b\b\b\b\b\b\b\b\b\b\b\b\b\b\b\b\b\b\b\b\b\b\b\b\b\b\b\b\b\b\b\b\b\r1439/1439 [==============================] - 8s 5ms/step - loss: 0.0536 - accuracy: 0.9875\n",
            "Epoch 5/10\n",
            "1436/1439 [============================>.] - ETA: 0s - loss: 0.4118 - accuracy: 0.9802"
          ]
        },
        {
          "output_type": "stream",
          "name": "stderr",
          "text": [
            "WARNING:tensorflow:Early stopping conditioned on metric `val_accuracy` which is not available. Available metrics are: loss,accuracy\n"
          ]
        },
        {
          "output_type": "stream",
          "name": "stdout",
          "text": [
            "\b\b\b\b\b\b\b\b\b\b\b\b\b\b\b\b\b\b\b\b\b\b\b\b\b\b\b\b\b\b\b\b\b\b\b\b\b\b\b\b\b\b\b\b\b\b\b\b\b\b\b\b\b\b\b\b\b\b\b\b\b\b\b\b\b\b\b\b\b\b\b\b\b\b\b\b\b\b\b\b\b\b\b\b\b\b\r1439/1439 [==============================] - 11s 7ms/step - loss: 0.4110 - accuracy: 0.9802\n",
            "Epoch 6/10\n",
            "1436/1439 [============================>.] - ETA: 0s - loss: 0.0990 - accuracy: 0.9824"
          ]
        },
        {
          "output_type": "stream",
          "name": "stderr",
          "text": [
            "WARNING:tensorflow:Early stopping conditioned on metric `val_accuracy` which is not available. Available metrics are: loss,accuracy\n"
          ]
        },
        {
          "output_type": "stream",
          "name": "stdout",
          "text": [
            "\b\b\b\b\b\b\b\b\b\b\b\b\b\b\b\b\b\b\b\b\b\b\b\b\b\b\b\b\b\b\b\b\b\b\b\b\b\b\b\b\b\b\b\b\b\b\b\b\b\b\b\b\b\b\b\b\b\b\b\b\b\b\b\b\b\b\b\b\b\b\b\b\b\b\b\b\b\b\b\b\b\b\b\b\b\b\r1439/1439 [==============================] - 14s 9ms/step - loss: 0.0989 - accuracy: 0.9824\n",
            "Epoch 7/10\n",
            "1431/1439 [============================>.] - ETA: 0s - loss: 0.0835 - accuracy: 0.9864"
          ]
        },
        {
          "output_type": "stream",
          "name": "stderr",
          "text": [
            "WARNING:tensorflow:Early stopping conditioned on metric `val_accuracy` which is not available. Available metrics are: loss,accuracy\n"
          ]
        },
        {
          "output_type": "stream",
          "name": "stdout",
          "text": [
            "\b\b\b\b\b\b\b\b\b\b\b\b\b\b\b\b\b\b\b\b\b\b\b\b\b\b\b\b\b\b\b\b\b\b\b\b\b\b\b\b\b\b\b\b\b\b\b\b\b\b\b\b\b\b\b\b\b\b\b\b\b\b\b\b\b\b\b\b\b\b\b\b\b\b\b\b\b\b\b\b\b\b\b\b\b\b\r1439/1439 [==============================] - 9s 6ms/step - loss: 0.0832 - accuracy: 0.9865\n",
            "Epoch 8/10\n",
            "1430/1439 [============================>.] - ETA: 0s - loss: 0.0265 - accuracy: 0.9929"
          ]
        },
        {
          "output_type": "stream",
          "name": "stderr",
          "text": [
            "WARNING:tensorflow:Early stopping conditioned on metric `val_accuracy` which is not available. Available metrics are: loss,accuracy\n"
          ]
        },
        {
          "output_type": "stream",
          "name": "stdout",
          "text": [
            "\b\b\b\b\b\b\b\b\b\b\b\b\b\b\b\b\b\b\b\b\b\b\b\b\b\b\b\b\b\b\b\b\b\b\b\b\b\b\b\b\b\b\b\b\b\b\b\b\b\b\b\b\b\b\b\b\b\b\b\b\b\b\b\b\b\b\b\b\b\b\b\b\b\b\b\b\b\b\b\b\b\b\b\b\b\b\r1439/1439 [==============================] - 7s 5ms/step - loss: 0.0264 - accuracy: 0.9929\n",
            "Epoch 9/10\n",
            "1437/1439 [============================>.] - ETA: 0s - loss: 0.0957 - accuracy: 0.9863"
          ]
        },
        {
          "output_type": "stream",
          "name": "stderr",
          "text": [
            "WARNING:tensorflow:Early stopping conditioned on metric `val_accuracy` which is not available. Available metrics are: loss,accuracy\n"
          ]
        },
        {
          "output_type": "stream",
          "name": "stdout",
          "text": [
            "\b\b\b\b\b\b\b\b\b\b\b\b\b\b\b\b\b\b\b\b\b\b\b\b\b\b\b\b\b\b\b\b\b\b\b\b\b\b\b\b\b\b\b\b\b\b\b\b\b\b\b\b\b\b\b\b\b\b\b\b\b\b\b\b\b\b\b\b\b\b\b\b\b\b\b\b\b\b\b\b\b\b\b\b\b\b\r1439/1439 [==============================] - 10s 7ms/step - loss: 0.0957 - accuracy: 0.9863\n",
            "Epoch 10/10\n",
            "1436/1439 [============================>.] - ETA: 0s - loss: 0.0234 - accuracy: 0.9934"
          ]
        },
        {
          "output_type": "stream",
          "name": "stderr",
          "text": [
            "WARNING:tensorflow:Early stopping conditioned on metric `val_accuracy` which is not available. Available metrics are: loss,accuracy\n"
          ]
        },
        {
          "output_type": "stream",
          "name": "stdout",
          "text": [
            "\b\b\b\b\b\b\b\b\b\b\b\b\b\b\b\b\b\b\b\b\b\b\b\b\b\b\b\b\b\b\b\b\b\b\b\b\b\b\b\b\b\b\b\b\b\b\b\b\b\b\b\b\b\b\b\b\b\b\b\b\b\b\b\b\b\b\b\b\b\b\b\b\b\b\b\b\b\b\b\b\b\b\b\b\b\b\r1439/1439 [==============================] - 7s 5ms/step - loss: 0.0233 - accuracy: 0.9934\n"
          ]
        },
        {
          "output_type": "execute_result",
          "data": {
            "text/plain": [
              "<keras.callbacks.History at 0x7fa98ceb74f0>"
            ]
          },
          "metadata": {},
          "execution_count": 148
        }
      ]
    },
    {
      "cell_type": "markdown",
      "id": "olTUFg5ReiKE",
      "metadata": {
        "id": "olTUFg5ReiKE"
      },
      "source": [
        "# Evaluation on test data"
      ]
    },
    {
      "cell_type": "code",
      "source": [
        "eval = model2.evaluate(test_data, test_flags)\n",
        "print(\"Test loss:\",eval[0])\n",
        "print(\"Test accuracy:\",eval[1])"
      ],
      "metadata": {
        "colab": {
          "base_uri": "https://localhost:8080/"
        },
        "id": "as_U7e1Ds3Ta",
        "outputId": "2f8458f7-deb4-4951-b104-286db5a14fda"
      },
      "id": "as_U7e1Ds3Ta",
      "execution_count": null,
      "outputs": [
        {
          "output_type": "stream",
          "name": "stdout",
          "text": [
            "195/195 [==============================] - 1s 2ms/step - loss: 1.6815 - accuracy: 0.9934\n",
            "Test loss: 1.6815260648727417\n",
            "Test accuracy: 0.9934273958206177\n"
          ]
        }
      ]
    },
    {
      "cell_type": "markdown",
      "id": "1qC1qJ5ielAX",
      "metadata": {
        "id": "1qC1qJ5ielAX"
      },
      "source": [
        "# Confusion matrix"
      ]
    },
    {
      "cell_type": "code",
      "source": [
        "preds = model2.predict(test_data)\n",
        "print(preds)\n",
        "predsnp = np.array(preds)\n",
        "predsround = np.where(predsnp >= 0.5, 1, 0)\n",
        "conf=confusion_matrix(test_flags,predsround)\n",
        "sns.heatmap(conf, annot=True, fmt='d', vmax=100)"
      ],
      "metadata": {
        "colab": {
          "base_uri": "https://localhost:8080/",
          "height": 600
        },
        "id": "iIt4QpNvycd8",
        "outputId": "c3788599-470f-446d-b1d6-42bbd2ea4cc0"
      },
      "id": "iIt4QpNvycd8",
      "execution_count": null,
      "outputs": [
        {
          "output_type": "stream",
          "name": "stdout",
          "text": [
            "195/195 [==============================] - 0s 2ms/step\n",
            "[[0.0000000e+00]\n",
            " [0.0000000e+00]\n",
            " [1.2216972e-15]\n",
            " ...\n",
            " [4.3016339e-13]\n",
            " [4.7375872e-35]\n",
            " [4.3900698e-07]]\n"
          ]
        },
        {
          "output_type": "execute_result",
          "data": {
            "text/plain": [
              "<Axes: >"
            ]
          },
          "metadata": {},
          "execution_count": 150
        },
        {
          "output_type": "display_data",
          "data": {
            "text/plain": [
              "<Figure size 640x480 with 2 Axes>"
            ],
            "image/png": "[encoded data removed]"
          },
          "metadata": {}
        }
      ]
    },
    {
      "cell_type": "code",
      "source": [
        "print(\"Accuracy: \",accuracy_score(test_flags, predsround))\n",
        "print(\"Precision: \",precision_score(test_flags, predsround, average='macro'))\n",
        "print(\"Recall: \", recall_score(test_flags, predsround, average='macro'))\n",
        "print(\"F1: \",f1_score(test_flags, predsround, average='macro'))"
      ],
      "metadata": {
        "colab": {
          "base_uri": "https://localhost:8080/"
        },
        "id": "2HO1WuhYyc3x",
        "outputId": "3c160638-b555-498d-ed82-6c81f2e6eced"
      },
      "id": "2HO1WuhYyc3x",
      "execution_count": null,
      "outputs": [
        {
          "output_type": "stream",
          "name": "stdout",
          "text": [
            "Accuracy:  0.9934273805706957\n",
            "Precision:  0.964475599479047\n",
            "Recall:  0.9916861063613217\n",
            "F1:  0.9776114261753852\n"
          ]
        }
      ]
    },
    {
      "cell_type": "code",
      "execution_count": null,
      "id": "8b697646",
      "metadata": {
        "id": "8b697646"
      },
      "outputs": [],
      "source": []
    },
    {
      "cell_type": "code",
      "source": [],
      "metadata": {
        "id": "HDFD0PgKCKN3"
      },
      "id": "HDFD0PgKCKN3",
      "execution_count": null,
      "outputs": []
    },
    {
      "cell_type": "code",
      "execution_count": null,
      "id": "bead2a80",
      "metadata": {
        "id": "bead2a80",
        "outputId": "37b869b1-dba1-4b9b-954e-e35f70a00664",
        "colab": {
          "base_uri": "https://localhost:8080/",
          "height": 300
        }
      },
      "outputs": [
        {
          "output_type": "execute_result",
          "data": {
            "text/plain": [
              "   FLAG   1/1/2014  1/10/2014  1/11/2014  1/12/2014  1/13/2014  1/14/2014  \\\n",
              "0     1  13.876554  13.876554  13.876554  13.876554  13.876554  13.876554   \n",
              "1     1   2.900000   3.420000   3.810000   4.580000   3.560000   4.250000   \n",
              "2     1   0.110000   0.530000   0.450000   0.510000   1.320000   0.710000   \n",
              "3     1   0.910000   0.860000   1.100000   0.660000   5.820000   3.170000   \n",
              "4     1  11.020000   8.240000   7.940000   7.920000   8.310000   7.390000   \n",
              "\n",
              "   1/15/2014  1/16/2014  1/17/2014  ...  9/28/2016  9/29/2016  9/3/2016  \\\n",
              "0  13.876554  13.876554  13.876554  ...      10.12       9.96     16.92   \n",
              "1   3.860000   3.530000   3.410000  ...      17.77      10.37     15.32   \n",
              "2   0.120000   0.520000   0.550000  ...       4.33       2.46      1.23   \n",
              "3   1.180000   4.050000   3.660000  ...       2.36       2.82      2.28   \n",
              "4   8.270000   8.050000   8.950000  ...      51.36      52.39    113.35   \n",
              "\n",
              "   9/30/2016  9/4/2016  9/5/2016  9/6/2016  9/7/2016  9/8/2016  9/9/2016  \n",
              "0       7.60     27.22     18.05     26.47     18.75     17.84     14.92  \n",
              "1      13.51     12.23     14.68     16.35     18.14     18.41     17.31  \n",
              "2       3.19      1.17      1.36      0.56      1.02      1.96      1.83  \n",
              "3       3.70      3.07      4.61      3.13      3.10      3.74      3.13  \n",
              "4      60.89    115.62    108.69     87.88     86.36     81.51     81.75  \n",
              "\n",
              "[5 rows x 1035 columns]"
            ],
            "text/html": [
              "\n",
              "  <div id=\"df-1112ee5d-8365-4b11-9a3f-cb773dcfbf5f\">\n",
              "    <div class=\"colab-df-container\">\n",
              "      <div>\n",
              "<style scoped>\n",
              "    .dataframe tbody tr th:only-of-type {\n",
              "        vertical-align: middle;\n",
              "    }\n",
              "\n",
              "    .dataframe tbody tr th {\n",
              "        vertical-align: top;\n",
              "    }\n",
              "\n",
              "    .dataframe thead th {\n",
              "        text-align: right;\n",
              "    }\n",
              "</style>\n",
              "<table border=\"1\" class=\"dataframe\">\n",
              "  <thead>\n",
              "    <tr style=\"text-align: right;\">\n",
              "      <th></th>\n",
              "      <th>FLAG</th>\n",
              "      <th>1/1/2014</th>\n",
              "      <th>1/10/2014</th>\n",
              "      <th>1/11/2014</th>\n",
              "      <th>1/12/2014</th>\n",
              "      <th>1/13/2014</th>\n",
              "      <th>1/14/2014</th>\n",
              "      <th>1/15/2014</th>\n",
              "      <th>1/16/2014</th>\n",
              "      <th>1/17/2014</th>\n",
              "      <th>...</th>\n",
              "      <th>9/28/2016</th>\n",
              "      <th>9/29/2016</th>\n",
              "      <th>9/3/2016</th>\n",
              "      <th>9/30/2016</th>\n",
              "      <th>9/4/2016</th>\n",
              "      <th>9/5/2016</th>\n",
              "      <th>9/6/2016</th>\n",
              "      <th>9/7/2016</th>\n",
              "      <th>9/8/2016</th>\n",
              "      <th>9/9/2016</th>\n",
              "    </tr>\n",
              "  </thead>\n",
              "  <tbody>\n",
              "    <tr>\n",
              "      <th>0</th>\n",
              "      <td>1</td>\n",
              "      <td>13.876554</td>\n",
              "      <td>13.876554</td>\n",
              "      <td>13.876554</td>\n",
              "      <td>13.876554</td>\n",
              "      <td>13.876554</td>\n",
              "      <td>13.876554</td>\n",
              "      <td>13.876554</td>\n",
              "      <td>13.876554</td>\n",
              "      <td>13.876554</td>\n",
              "      <td>...</td>\n",
              "      <td>10.12</td>\n",
              "      <td>9.96</td>\n",
              "      <td>16.92</td>\n",
              "      <td>7.60</td>\n",
              "      <td>27.22</td>\n",
              "      <td>18.05</td>\n",
              "      <td>26.47</td>\n",
              "      <td>18.75</td>\n",
              "      <td>17.84</td>\n",
              "      <td>14.92</td>\n",
              "    </tr>\n",
              "    <tr>\n",
              "      <th>1</th>\n",
              "      <td>1</td>\n",
              "      <td>2.900000</td>\n",
              "      <td>3.420000</td>\n",
              "      <td>3.810000</td>\n",
              "      <td>4.580000</td>\n",
              "      <td>3.560000</td>\n",
              "      <td>4.250000</td>\n",
              "      <td>3.860000</td>\n",
              "      <td>3.530000</td>\n",
              "      <td>3.410000</td>\n",
              "      <td>...</td>\n",
              "      <td>17.77</td>\n",
              "      <td>10.37</td>\n",
              "      <td>15.32</td>\n",
              "      <td>13.51</td>\n",
              "      <td>12.23</td>\n",
              "      <td>14.68</td>\n",
              "      <td>16.35</td>\n",
              "      <td>18.14</td>\n",
              "      <td>18.41</td>\n",
              "      <td>17.31</td>\n",
              "    </tr>\n",
              "    <tr>\n",
              "      <th>2</th>\n",
              "      <td>1</td>\n",
              "      <td>0.110000</td>\n",
              "      <td>0.530000</td>\n",
              "      <td>0.450000</td>\n",
              "      <td>0.510000</td>\n",
              "      <td>1.320000</td>\n",
              "      <td>0.710000</td>\n",
              "      <td>0.120000</td>\n",
              "      <td>0.520000</td>\n",
              "      <td>0.550000</td>\n",
              "      <td>...</td>\n",
              "      <td>4.33</td>\n",
              "      <td>2.46</td>\n",
              "      <td>1.23</td>\n",
              "      <td>3.19</td>\n",
              "      <td>1.17</td>\n",
              "      <td>1.36</td>\n",
              "      <td>0.56</td>\n",
              "      <td>1.02</td>\n",
              "      <td>1.96</td>\n",
              "      <td>1.83</td>\n",
              "    </tr>\n",
              "    <tr>\n",
              "      <th>3</th>\n",
              "      <td>1</td>\n",
              "      <td>0.910000</td>\n",
              "      <td>0.860000</td>\n",
              "      <td>1.100000</td>\n",
              "      <td>0.660000</td>\n",
              "      <td>5.820000</td>\n",
              "      <td>3.170000</td>\n",
              "      <td>1.180000</td>\n",
              "      <td>4.050000</td>\n",
              "      <td>3.660000</td>\n",
              "      <td>...</td>\n",
              "      <td>2.36</td>\n",
              "      <td>2.82</td>\n",
              "      <td>2.28</td>\n",
              "      <td>3.70</td>\n",
              "      <td>3.07</td>\n",
              "      <td>4.61</td>\n",
              "      <td>3.13</td>\n",
              "      <td>3.10</td>\n",
              "      <td>3.74</td>\n",
              "      <td>3.13</td>\n",
              "    </tr>\n",
              "    <tr>\n",
              "      <th>4</th>\n",
              "      <td>1</td>\n",
              "      <td>11.020000</td>\n",
              "      <td>8.240000</td>\n",
              "      <td>7.940000</td>\n",
              "      <td>7.920000</td>\n",
              "      <td>8.310000</td>\n",
              "      <td>7.390000</td>\n",
              "      <td>8.270000</td>\n",
              "      <td>8.050000</td>\n",
              "      <td>8.950000</td>\n",
              "      <td>...</td>\n",
              "      <td>51.36</td>\n",
              "      <td>52.39</td>\n",
              "      <td>113.35</td>\n",
              "      <td>60.89</td>\n",
              "      <td>115.62</td>\n",
              "      <td>108.69</td>\n",
              "      <td>87.88</td>\n",
              "      <td>86.36</td>\n",
              "      <td>81.51</td>\n",
              "      <td>81.75</td>\n",
              "    </tr>\n",
              "  </tbody>\n",
              "</table>\n",
              "<p>5 rows × 1035 columns</p>\n",
              "</div>\n",
              "      <button class=\"colab-df-convert\" onclick=\"convertToInteractive('df-1112ee5d-8365-4b11-9a3f-cb773dcfbf5f')\"\n",
              "              title=\"Convert this dataframe to an interactive table.\"\n",
              "              style=\"display:none;\">\n",
              "        \n",
              "  <svg xmlns=\"http://www.w3.org/2000/svg\" height=\"24px\"viewBox=\"0 0 24 24\"\n",
              "       width=\"24px\">\n",
              "    <path d=\"M0 0h24v24H0V0z\" fill=\"none\"/>\n",
              "    <path d=\"M18.56 5.44l.94 2.06.94-2.06 2.06-.94-2.06-.94-.94-2.06-.94 2.06-2.06.94zm-11 1L8.5 8.5l.94-2.06 2.06-.94-2.06-.94L8.5 2.5l-.94 2.06-2.06.94zm10 10l.94 2.06.94-2.06 2.06-.94-2.06-.94-.94-2.06-.94 2.06-2.06.94z\"/><path d=\"M17.41 7.96l-1.37-1.37c-.4-.4-.92-.59-1.43-.59-.52 0-1.04.2-1.43.59L10.3 9.45l-7.72 7.72c-.78.78-.78 2.05 0 2.83L4 21.41c.39.39.9.59 1.41.59.51 0 1.02-.2 1.41-.59l7.78-7.78 2.81-2.81c.8-.78.8-2.07 0-2.86zM5.41 20L4 18.59l7.72-7.72 1.47 1.35L5.41 20z\"/>\n",
              "  </svg>\n",
              "      </button>\n",
              "      \n",
              "  <style>\n",
              "    .colab-df-container {\n",
              "      display:flex;\n",
              "      flex-wrap:wrap;\n",
              "      gap: 12px;\n",
              "    }\n",
              "\n",
              "    .colab-df-convert {\n",
              "      background-color: #E8F0FE;\n",
              "      border: none;\n",
              "      border-radius: 50%;\n",
              "      cursor: pointer;\n",
              "      display: none;\n",
              "      fill: #1967D2;\n",
              "      height: 32px;\n",
              "      padding: 0 0 0 0;\n",
              "      width: 32px;\n",
              "    }\n",
              "\n",
              "    .colab-df-convert:hover {\n",
              "      background-color: #E2EBFA;\n",
              "      box-shadow: 0px 1px 2px rgba(60, 64, 67, 0.3), 0px 1px 3px 1px rgba(60, 64, 67, 0.15);\n",
              "      fill: #174EA6;\n",
              "    }\n",
              "\n",
              "    [theme=dark] .colab-df-convert {\n",
              "      background-color: #3B4455;\n",
              "      fill: #D2E3FC;\n",
              "    }\n",
              "\n",
              "    [theme=dark] .colab-df-convert:hover {\n",
              "      background-color: #434B5C;\n",
              "      box-shadow: 0px 1px 3px 1px rgba(0, 0, 0, 0.15);\n",
              "      filter: drop-shadow(0px 1px 2px rgba(0, 0, 0, 0.3));\n",
              "      fill: #FFFFFF;\n",
              "    }\n",
              "  </style>\n",
              "\n",
              "      <script>\n",
              "        const buttonEl =\n",
              "          document.querySelector('#df-1112ee5d-8365-4b11-9a3f-cb773dcfbf5f button.colab-df-convert');\n",
              "        buttonEl.style.display =\n",
              "          google.colab.kernel.accessAllowed ? 'block' : 'none';\n",
              "\n",
              "        async function convertToInteractive(key) {\n",
              "          const element = document.querySelector('#df-1112ee5d-8365-4b11-9a3f-cb773dcfbf5f');\n",
              "          const dataTable =\n",
              "            await google.colab.kernel.invokeFunction('convertToInteractive',\n",
              "                                                     [key], {});\n",
              "          if (!dataTable) return;\n",
              "\n",
              "          const docLinkHtml = 'Like what you see? Visit the ' +\n",
              "            '<a target=\"_blank\" href=https://colab.research.google.com/notebooks/data_table.ipynb>data table notebook</a>'\n",
              "            + ' to learn more about interactive tables.';\n",
              "          element.innerHTML = '';\n",
              "          dataTable['output_type'] = 'display_data';\n",
              "          await google.colab.output.renderOutput(dataTable, element);\n",
              "          const docLink = document.createElement('div');\n",
              "          docLink.innerHTML = docLinkHtml;\n",
              "          element.appendChild(docLink);\n",
              "        }\n",
              "      </script>\n",
              "    </div>\n",
              "  </div>\n",
              "  "
            ]
          },
          "metadata": {},
          "execution_count": 115
        }
      ],
      "source": [
        "\"\"\"df = df.drop(df.columns[0], axis = 1)\n",
        "df = df.drop(df.columns[0], axis = 1)\n",
        "#df = df.drop(columns = ['CONS_NO'])\n",
        "df.head()\"\"\""
      ]
    },
    {
      "cell_type": "code",
      "execution_count": null,
      "id": "b3a0f8e0",
      "metadata": {
        "id": "b3a0f8e0",
        "outputId": "03679ebe-2b9b-4af8-c56b-4014731f30d7",
        "colab": {
          "base_uri": "https://localhost:8080/"
        }
      },
      "outputs": [
        {
          "output_type": "execute_result",
          "data": {
            "text/plain": [
              "(31188, 1037)"
            ]
          },
          "metadata": {},
          "execution_count": 95
        }
      ],
      "source": []
    },
    {
      "cell_type": "code",
      "execution_count": null,
      "id": "f2ef0f54",
      "metadata": {
        "id": "f2ef0f54",
        "outputId": "c04b8930-6928-46dd-9c23-760ad6c8147c",
        "colab": {
          "base_uri": "https://localhost:8080/"
        }
      },
      "outputs": [
        {
          "output_type": "stream",
          "name": "stdout",
          "text": [
            "last 1 flag: 2408\n",
            "first 0 flag: 2409\n"
          ]
        }
      ],
      "source": [
        "\"\"\"first0 = 0\n",
        "last1 = 0\n",
        "for index, row in df.iterrows():\n",
        "    if row['FLAG'] == 0 and first0 == 0:\n",
        "        first0 = index\n",
        "    if row['FLAG'] == 1:\n",
        "        last1 = index\n",
        "print(\"last 1 flag: \" + str(last1))\n",
        "print(\"first 0 flag: \" + str(first0))\"\"\"\n",
        "\n",
        "\n"
      ]
    },
    {
      "cell_type": "code",
      "execution_count": null,
      "id": "5306c8e2",
      "metadata": {
        "id": "5306c8e2"
      },
      "outputs": [],
      "source": [
        "#Y = df.filter(['0', 'FLAG'], axis = 1)"
      ]
    },
    {
      "cell_type": "code",
      "execution_count": null,
      "id": "bc1e1e2c",
      "metadata": {
        "id": "bc1e1e2c"
      },
      "outputs": [],
      "source": [
        "#X = df.drop(columns = ['FLAG'])"
      ]
    },
    {
      "cell_type": "code",
      "execution_count": null,
      "id": "652f82b0",
      "metadata": {
        "id": "652f82b0",
        "outputId": "953f85aa-a9ed-4148-c042-55e582293997",
        "colab": {
          "base_uri": "https://localhost:8080/"
        }
      },
      "outputs": [
        {
          "output_type": "stream",
          "name": "stdout",
          "text": [
            "31188\n"
          ]
        },
        {
          "output_type": "stream",
          "name": "stderr",
          "text": [
            "<ipython-input-12-339cb7c001b4>:18: FutureWarning: The frame.append method is deprecated and will be removed from pandas in a future version. Use pandas.concat instead.\n",
            "  X_train = X_train.append(X[first0:v_point_0])\n",
            "<ipython-input-12-339cb7c001b4>:19: FutureWarning: The frame.append method is deprecated and will be removed from pandas in a future version. Use pandas.concat instead.\n",
            "  Y_train = Y_train.append(Y[first0:v_point_0])\n",
            "<ipython-input-12-339cb7c001b4>:20: FutureWarning: The frame.append method is deprecated and will be removed from pandas in a future version. Use pandas.concat instead.\n",
            "  X_valid = X_valid.append(X[v_point_0:t_point_0])\n",
            "<ipython-input-12-339cb7c001b4>:21: FutureWarning: The frame.append method is deprecated and will be removed from pandas in a future version. Use pandas.concat instead.\n",
            "  Y_valid = Y_valid.append(Y[v_point_0:t_point_0])\n",
            "<ipython-input-12-339cb7c001b4>:22: FutureWarning: The frame.append method is deprecated and will be removed from pandas in a future version. Use pandas.concat instead.\n",
            "  X_test  = X_test.append(X[t_point_0:])\n",
            "<ipython-input-12-339cb7c001b4>:23: FutureWarning: The frame.append method is deprecated and will be removed from pandas in a future version. Use pandas.concat instead.\n",
            "  Y_test  = Y_test.append(Y[t_point_0:])\n"
          ]
        }
      ],
      "source": [
        "\"\"\"valid_split = 0.2\n",
        "test_split  = 0.1\n",
        "\n",
        "v_point_1 = int(last1*(1-valid_split-test_split))\n",
        "t_point_1 = int(last1*(1-test_split))\n",
        "\n",
        "\n",
        "X_train = X[:v_point_1]\n",
        "Y_train = Y[:v_point_1]\n",
        "X_valid = X[v_point_1:t_point_1]\n",
        "Y_valid = Y[v_point_1:t_point_1]\n",
        "X_test  = X[t_point_1:first0]\n",
        "Y_test  = Y[t_point_1:first0]\n",
        "\n",
        "v_point_0 = int((len(X)-last1)*(1-valid_split-test_split))\n",
        "t_point_0 = int((len(X)-last1)*(1-test_split))\n",
        "\n",
        "X_train = X_train.append(X[first0:v_point_0])\n",
        "Y_train = Y_train.append(Y[first0:v_point_0])\n",
        "X_valid = X_valid.append(X[v_point_0:t_point_0])\n",
        "Y_valid = Y_valid.append(Y[v_point_0:t_point_0])\n",
        "X_test  = X_test.append(X[t_point_0:])\n",
        "Y_test  = Y_test.append(Y[t_point_0:])\n",
        "\n",
        "print(len(X_train) + len(X_test) + len(X_valid))\"\"\"\n"
      ]
    },
    {
      "cell_type": "code",
      "source": [
        "\"\"\"X_t = np.array(X_train, dtype=np.float)\n",
        "Y_t = np.array(Y_train, dtype=np.float)\"\"\""
      ],
      "metadata": {
        "colab": {
          "base_uri": "https://localhost:8080/"
        },
        "id": "0qe95Yru_3-i",
        "outputId": "4771584e-fcaf-4817-db50-232aaf041d7c"
      },
      "id": "0qe95Yru_3-i",
      "execution_count": null,
      "outputs": [
        {
          "output_type": "stream",
          "name": "stderr",
          "text": [
            "<ipython-input-13-f8b88cf7a3b9>:1: DeprecationWarning: `np.float` is a deprecated alias for the builtin `float`. To silence this warning, use `float` by itself. Doing this will not modify any behavior and is safe. If you specifically wanted the numpy scalar type, use `np.float64` here.\n",
            "Deprecated in NumPy 1.20; for more details and guidance: https://numpy.org/devdocs/release/1.20.0-notes.html#deprecations\n",
            "  X_t = np.array(X_train, dtype=np.float)\n",
            "<ipython-input-13-f8b88cf7a3b9>:2: DeprecationWarning: `np.float` is a deprecated alias for the builtin `float`. To silence this warning, use `float` by itself. Doing this will not modify any behavior and is safe. If you specifically wanted the numpy scalar type, use `np.float64` here.\n",
            "Deprecated in NumPy 1.20; for more details and guidance: https://numpy.org/devdocs/release/1.20.0-notes.html#deprecations\n",
            "  Y_t = np.array(Y_train, dtype=np.float)\n"
          ]
        }
      ]
    },
    {
      "cell_type": "code",
      "source": [
        "#X_train.head()"
      ],
      "metadata": {
        "colab": {
          "base_uri": "https://localhost:8080/",
          "height": 300
        },
        "id": "9YMr3VLRA0JP",
        "outputId": "e1d43042-5b19-4218-95e8-d83027bfda8d"
      },
      "id": "9YMr3VLRA0JP",
      "execution_count": null,
      "outputs": [
        {
          "output_type": "execute_result",
          "data": {
            "text/plain": [
              "    1/1/2014  1/10/2014  1/11/2014  1/12/2014  1/13/2014  1/14/2014  \\\n",
              "0  13.876554  13.876554  13.876554  13.876554  13.876554  13.876554   \n",
              "1   2.900000   3.420000   3.810000   4.580000   3.560000   4.250000   \n",
              "2   0.110000   0.530000   0.450000   0.510000   1.320000   0.710000   \n",
              "3   0.910000   0.860000   1.100000   0.660000   5.820000   3.170000   \n",
              "4  11.020000   8.240000   7.940000   7.920000   8.310000   7.390000   \n",
              "\n",
              "   1/15/2014  1/16/2014  1/17/2014  1/18/2014  ...  9/28/2016  9/29/2016  \\\n",
              "0  13.876554  13.876554  13.876554  13.876554  ...      10.12       9.96   \n",
              "1   3.860000   3.530000   3.410000   0.850000  ...      17.77      10.37   \n",
              "2   0.120000   0.520000   0.550000   0.740000  ...       4.33       2.46   \n",
              "3   1.180000   4.050000   3.660000   3.210000  ...       2.36       2.82   \n",
              "4   8.270000   8.050000   8.950000   8.320000  ...      51.36      52.39   \n",
              "\n",
              "   9/3/2016  9/30/2016  9/4/2016  9/5/2016  9/6/2016  9/7/2016  9/8/2016  \\\n",
              "0     16.92       7.60     27.22     18.05     26.47     18.75     17.84   \n",
              "1     15.32      13.51     12.23     14.68     16.35     18.14     18.41   \n",
              "2      1.23       3.19      1.17      1.36      0.56      1.02      1.96   \n",
              "3      2.28       3.70      3.07      4.61      3.13      3.10      3.74   \n",
              "4    113.35      60.89    115.62    108.69     87.88     86.36     81.51   \n",
              "\n",
              "   9/9/2016  \n",
              "0     14.92  \n",
              "1     17.31  \n",
              "2      1.83  \n",
              "3      3.13  \n",
              "4     81.75  \n",
              "\n",
              "[5 rows x 1034 columns]"
            ],
            "text/html": [
              "\n",
              "  <div id=\"df-c9240bdf-fe70-47c2-8e4c-6b053506283c\">\n",
              "    <div class=\"colab-df-container\">\n",
              "      <div>\n",
              "<style scoped>\n",
              "    .dataframe tbody tr th:only-of-type {\n",
              "        vertical-align: middle;\n",
              "    }\n",
              "\n",
              "    .dataframe tbody tr th {\n",
              "        vertical-align: top;\n",
              "    }\n",
              "\n",
              "    .dataframe thead th {\n",
              "        text-align: right;\n",
              "    }\n",
              "</style>\n",
              "<table border=\"1\" class=\"dataframe\">\n",
              "  <thead>\n",
              "    <tr style=\"text-align: right;\">\n",
              "      <th></th>\n",
              "      <th>1/1/2014</th>\n",
              "      <th>1/10/2014</th>\n",
              "      <th>1/11/2014</th>\n",
              "      <th>1/12/2014</th>\n",
              "      <th>1/13/2014</th>\n",
              "      <th>1/14/2014</th>\n",
              "      <th>1/15/2014</th>\n",
              "      <th>1/16/2014</th>\n",
              "      <th>1/17/2014</th>\n",
              "      <th>1/18/2014</th>\n",
              "      <th>...</th>\n",
              "      <th>9/28/2016</th>\n",
              "      <th>9/29/2016</th>\n",
              "      <th>9/3/2016</th>\n",
              "      <th>9/30/2016</th>\n",
              "      <th>9/4/2016</th>\n",
              "      <th>9/5/2016</th>\n",
              "      <th>9/6/2016</th>\n",
              "      <th>9/7/2016</th>\n",
              "      <th>9/8/2016</th>\n",
              "      <th>9/9/2016</th>\n",
              "    </tr>\n",
              "  </thead>\n",
              "  <tbody>\n",
              "    <tr>\n",
              "      <th>0</th>\n",
              "      <td>13.876554</td>\n",
              "      <td>13.876554</td>\n",
              "      <td>13.876554</td>\n",
              "      <td>13.876554</td>\n",
              "      <td>13.876554</td>\n",
              "      <td>13.876554</td>\n",
              "      <td>13.876554</td>\n",
              "      <td>13.876554</td>\n",
              "      <td>13.876554</td>\n",
              "      <td>13.876554</td>\n",
              "      <td>...</td>\n",
              "      <td>10.12</td>\n",
              "      <td>9.96</td>\n",
              "      <td>16.92</td>\n",
              "      <td>7.60</td>\n",
              "      <td>27.22</td>\n",
              "      <td>18.05</td>\n",
              "      <td>26.47</td>\n",
              "      <td>18.75</td>\n",
              "      <td>17.84</td>\n",
              "      <td>14.92</td>\n",
              "    </tr>\n",
              "    <tr>\n",
              "      <th>1</th>\n",
              "      <td>2.900000</td>\n",
              "      <td>3.420000</td>\n",
              "      <td>3.810000</td>\n",
              "      <td>4.580000</td>\n",
              "      <td>3.560000</td>\n",
              "      <td>4.250000</td>\n",
              "      <td>3.860000</td>\n",
              "      <td>3.530000</td>\n",
              "      <td>3.410000</td>\n",
              "      <td>0.850000</td>\n",
              "      <td>...</td>\n",
              "      <td>17.77</td>\n",
              "      <td>10.37</td>\n",
              "      <td>15.32</td>\n",
              "      <td>13.51</td>\n",
              "      <td>12.23</td>\n",
              "      <td>14.68</td>\n",
              "      <td>16.35</td>\n",
              "      <td>18.14</td>\n",
              "      <td>18.41</td>\n",
              "      <td>17.31</td>\n",
              "    </tr>\n",
              "    <tr>\n",
              "      <th>2</th>\n",
              "      <td>0.110000</td>\n",
              "      <td>0.530000</td>\n",
              "      <td>0.450000</td>\n",
              "      <td>0.510000</td>\n",
              "      <td>1.320000</td>\n",
              "      <td>0.710000</td>\n",
              "      <td>0.120000</td>\n",
              "      <td>0.520000</td>\n",
              "      <td>0.550000</td>\n",
              "      <td>0.740000</td>\n",
              "      <td>...</td>\n",
              "      <td>4.33</td>\n",
              "      <td>2.46</td>\n",
              "      <td>1.23</td>\n",
              "      <td>3.19</td>\n",
              "      <td>1.17</td>\n",
              "      <td>1.36</td>\n",
              "      <td>0.56</td>\n",
              "      <td>1.02</td>\n",
              "      <td>1.96</td>\n",
              "      <td>1.83</td>\n",
              "    </tr>\n",
              "    <tr>\n",
              "      <th>3</th>\n",
              "      <td>0.910000</td>\n",
              "      <td>0.860000</td>\n",
              "      <td>1.100000</td>\n",
              "      <td>0.660000</td>\n",
              "      <td>5.820000</td>\n",
              "      <td>3.170000</td>\n",
              "      <td>1.180000</td>\n",
              "      <td>4.050000</td>\n",
              "      <td>3.660000</td>\n",
              "      <td>3.210000</td>\n",
              "      <td>...</td>\n",
              "      <td>2.36</td>\n",
              "      <td>2.82</td>\n",
              "      <td>2.28</td>\n",
              "      <td>3.70</td>\n",
              "      <td>3.07</td>\n",
              "      <td>4.61</td>\n",
              "      <td>3.13</td>\n",
              "      <td>3.10</td>\n",
              "      <td>3.74</td>\n",
              "      <td>3.13</td>\n",
              "    </tr>\n",
              "    <tr>\n",
              "      <th>4</th>\n",
              "      <td>11.020000</td>\n",
              "      <td>8.240000</td>\n",
              "      <td>7.940000</td>\n",
              "      <td>7.920000</td>\n",
              "      <td>8.310000</td>\n",
              "      <td>7.390000</td>\n",
              "      <td>8.270000</td>\n",
              "      <td>8.050000</td>\n",
              "      <td>8.950000</td>\n",
              "      <td>8.320000</td>\n",
              "      <td>...</td>\n",
              "      <td>51.36</td>\n",
              "      <td>52.39</td>\n",
              "      <td>113.35</td>\n",
              "      <td>60.89</td>\n",
              "      <td>115.62</td>\n",
              "      <td>108.69</td>\n",
              "      <td>87.88</td>\n",
              "      <td>86.36</td>\n",
              "      <td>81.51</td>\n",
              "      <td>81.75</td>\n",
              "    </tr>\n",
              "  </tbody>\n",
              "</table>\n",
              "<p>5 rows × 1034 columns</p>\n",
              "</div>\n",
              "      <button class=\"colab-df-convert\" onclick=\"convertToInteractive('df-c9240bdf-fe70-47c2-8e4c-6b053506283c')\"\n",
              "              title=\"Convert this dataframe to an interactive table.\"\n",
              "              style=\"display:none;\">\n",
              "        \n",
              "  <svg xmlns=\"http://www.w3.org/2000/svg\" height=\"24px\"viewBox=\"0 0 24 24\"\n",
              "       width=\"24px\">\n",
              "    <path d=\"M0 0h24v24H0V0z\" fill=\"none\"/>\n",
              "    <path d=\"M18.56 5.44l.94 2.06.94-2.06 2.06-.94-2.06-.94-.94-2.06-.94 2.06-2.06.94zm-11 1L8.5 8.5l.94-2.06 2.06-.94-2.06-.94L8.5 2.5l-.94 2.06-2.06.94zm10 10l.94 2.06.94-2.06 2.06-.94-2.06-.94-.94-2.06-.94 2.06-2.06.94z\"/><path d=\"M17.41 7.96l-1.37-1.37c-.4-.4-.92-.59-1.43-.59-.52 0-1.04.2-1.43.59L10.3 9.45l-7.72 7.72c-.78.78-.78 2.05 0 2.83L4 21.41c.39.39.9.59 1.41.59.51 0 1.02-.2 1.41-.59l7.78-7.78 2.81-2.81c.8-.78.8-2.07 0-2.86zM5.41 20L4 18.59l7.72-7.72 1.47 1.35L5.41 20z\"/>\n",
              "  </svg>\n",
              "      </button>\n",
              "      \n",
              "  <style>\n",
              "    .colab-df-container {\n",
              "      display:flex;\n",
              "      flex-wrap:wrap;\n",
              "      gap: 12px;\n",
              "    }\n",
              "\n",
              "    .colab-df-convert {\n",
              "      background-color: #E8F0FE;\n",
              "      border: none;\n",
              "      border-radius: 50%;\n",
              "      cursor: pointer;\n",
              "      display: none;\n",
              "      fill: #1967D2;\n",
              "      height: 32px;\n",
              "      padding: 0 0 0 0;\n",
              "      width: 32px;\n",
              "    }\n",
              "\n",
              "    .colab-df-convert:hover {\n",
              "      background-color: #E2EBFA;\n",
              "      box-shadow: 0px 1px 2px rgba(60, 64, 67, 0.3), 0px 1px 3px 1px rgba(60, 64, 67, 0.15);\n",
              "      fill: #174EA6;\n",
              "    }\n",
              "\n",
              "    [theme=dark] .colab-df-convert {\n",
              "      background-color: #3B4455;\n",
              "      fill: #D2E3FC;\n",
              "    }\n",
              "\n",
              "    [theme=dark] .colab-df-convert:hover {\n",
              "      background-color: #434B5C;\n",
              "      box-shadow: 0px 1px 3px 1px rgba(0, 0, 0, 0.15);\n",
              "      filter: drop-shadow(0px 1px 2px rgba(0, 0, 0, 0.3));\n",
              "      fill: #FFFFFF;\n",
              "    }\n",
              "  </style>\n",
              "\n",
              "      <script>\n",
              "        const buttonEl =\n",
              "          document.querySelector('#df-c9240bdf-fe70-47c2-8e4c-6b053506283c button.colab-df-convert');\n",
              "        buttonEl.style.display =\n",
              "          google.colab.kernel.accessAllowed ? 'block' : 'none';\n",
              "\n",
              "        async function convertToInteractive(key) {\n",
              "          const element = document.querySelector('#df-c9240bdf-fe70-47c2-8e4c-6b053506283c');\n",
              "          const dataTable =\n",
              "            await google.colab.kernel.invokeFunction('convertToInteractive',\n",
              "                                                     [key], {});\n",
              "          if (!dataTable) return;\n",
              "\n",
              "          const docLinkHtml = 'Like what you see? Visit the ' +\n",
              "            '<a target=\"_blank\" href=https://colab.research.google.com/notebooks/data_table.ipynb>data table notebook</a>'\n",
              "            + ' to learn more about interactive tables.';\n",
              "          element.innerHTML = '';\n",
              "          dataTable['output_type'] = 'display_data';\n",
              "          await google.colab.output.renderOutput(dataTable, element);\n",
              "          const docLink = document.createElement('div');\n",
              "          docLink.innerHTML = docLinkHtml;\n",
              "          element.appendChild(docLink);\n",
              "        }\n",
              "      </script>\n",
              "    </div>\n",
              "  </div>\n",
              "  "
            ]
          },
          "metadata": {},
          "execution_count": 14
        }
      ]
    },
    {
      "cell_type": "code",
      "source": [
        "#print(X_t.shape)\n",
        "#print(Y_t.shape)"
      ],
      "metadata": {
        "colab": {
          "base_uri": "https://localhost:8080/"
        },
        "id": "yc261prBEfvU",
        "outputId": "379ad3b0-9224-4afa-dc9d-994ce5b2d202"
      },
      "id": "yc261prBEfvU",
      "execution_count": null,
      "outputs": [
        {
          "output_type": "stream",
          "name": "stdout",
          "text": [
            "(19422, 1034)\n",
            "(19422, 1)\n"
          ]
        }
      ]
    },
    {
      "cell_type": "code",
      "source": [
        "\"\"\"nb_filter       = 3   # number of filter/kernels in the convolutional layers\n",
        "filter_length   = 10  # length of the filter/kernel in the convolutional layers\n",
        "window_size     = X_t.shape[1] # the window size defined by the dataset\n",
        "nb_features     = 1 # the number of features of the input data\n",
        "nb_outputs      = 2 # the number of outputs (defined by the target data)\"\"\""
      ],
      "metadata": {
        "id": "iRJuoShFKa-s"
      },
      "id": "iRJuoShFKa-s",
      "execution_count": null,
      "outputs": []
    },
    {
      "cell_type": "code",
      "source": [
        "\"\"\"model = Sequential()\n",
        "model.add(Conv1D(filters=nb_filter, kernel_size=filter_length, activation='selu', kernel_initializer='he_normal', input_shape=(window_size, nb_features)))\n",
        "#model.add(MaxPooling1D(2))\n",
        "model.add(Dropout(0.2))\n",
        "model.add(Conv1D(filters=nb_filter, kernel_size=filter_length, activation='relu', kernel_initializer='he_normal', padding = 'same'))\n",
        "model.add(MaxPooling1D(2))\n",
        "model.add(Dropout(0.2))\n",
        "model.add(Flatten())\n",
        "model.add(Dense(128, activation='selu'))\n",
        "model.add(Dropout(0.2))\n",
        "model.add(Dense(nb_outputs, activation='softmax'))\"\"\""
      ],
      "metadata": {
        "id": "9uL-PuOrKxsR"
      },
      "id": "9uL-PuOrKxsR",
      "execution_count": null,
      "outputs": []
    },
    {
      "cell_type": "code",
      "source": [
        "#model.compile(loss='binary_crossentropy', optimizer='adam', metrics=['accuracy'])\n",
        "#model.summary()"
      ],
      "metadata": {
        "colab": {
          "base_uri": "https://localhost:8080/"
        },
        "id": "TpNq8nIoKxyN",
        "outputId": "de474de0-ccdb-48fe-9e40-4658b42c2c3d"
      },
      "id": "TpNq8nIoKxyN",
      "execution_count": null,
      "outputs": [
        {
          "output_type": "stream",
          "name": "stdout",
          "text": [
            "Model: \"sequential_4\"\n",
            "_________________________________________________________________\n",
            " Layer (type)                Output Shape              Param #   \n",
            "=================================================================\n",
            " conv1d_6 (Conv1D)           (None, 1025, 3)           33        \n",
            "                                                                 \n",
            " dropout_9 (Dropout)         (None, 1025, 3)           0         \n",
            "                                                                 \n",
            " conv1d_7 (Conv1D)           (None, 1025, 3)           93        \n",
            "                                                                 \n",
            " max_pooling1d_3 (MaxPooling  (None, 512, 3)           0         \n",
            " 1D)                                                             \n",
            "                                                                 \n",
            " dropout_10 (Dropout)        (None, 512, 3)            0         \n",
            "                                                                 \n",
            " flatten_3 (Flatten)         (None, 1536)              0         \n",
            "                                                                 \n",
            " dense_9 (Dense)             (None, 128)               196736    \n",
            "                                                                 \n",
            " dropout_11 (Dropout)        (None, 128)               0         \n",
            "                                                                 \n",
            " dense_10 (Dense)            (None, 2)                 258       \n",
            "                                                                 \n",
            "=================================================================\n",
            "Total params: 197,120\n",
            "Trainable params: 197,120\n",
            "Non-trainable params: 0\n",
            "_________________________________________________________________\n"
          ]
        }
      ]
    },
    {
      "cell_type": "code",
      "execution_count": null,
      "id": "c46813d5",
      "metadata": {
        "id": "c46813d5"
      },
      "outputs": [],
      "source": [
        "\"\"\"model = Sequential()\n",
        "model.add(LSTM(128, input_shape=(X_t.shape[-2], X_t.shape[-1])))\n",
        "model.add(Dense(2))\n",
        "model.add(Activation('softmax'))\n",
        "\n",
        "optimizer = RMSprop(learning_rate=0.01)\n",
        "model.compile(loss='categorical_crossentropy', optimizer=optimizer, metrics=['accuracy'])\"\"\""
      ]
    }
  ],
  "metadata": {
    "colab": {
      "provenance": [],
      "include_colab_link": true
    },
    "kernelspec": {
      "display_name": "Python 3 (ipykernel)",
      "language": "python",
      "name": "python3"
    },
    "language_info": {
      "codemirror_mode": {
        "name": "ipython",
        "version": 3
      },
      "file_extension": ".py",
      "mimetype": "text/x-python",
      "name": "python",
      "nbconvert_exporter": "python",
      "pygments_lexer": "ipython3",
      "version": "3.9.0"
    }
  },
  "nbformat": 4,
  "nbformat_minor": 5
}