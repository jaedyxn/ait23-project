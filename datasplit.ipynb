{
  "cells": [
    {
      "cell_type": "markdown",
      "metadata": {
        "id": "view-in-github",
        "colab_type": "text"
      },
      "source": [
        "<a href=\"https://colab.research.google.com/github/jaedyxn/ait23-project/blob/main/datasplit.ipynb\" target=\"_parent\"><img src=\"https://colab.research.google.com/assets/colab-badge.svg\" alt=\"Open In Colab\"/></a>"
      ]
    },
    {
      "cell_type": "code",
      "execution_count": null,
      "id": "5d5b68c3",
      "metadata": {
        "id": "5d5b68c3"
      },
      "outputs": [],
      "source": [
        "import pandas as pd"
      ]
    },
    {
      "cell_type": "code",
      "execution_count": null,
      "id": "8b697646",
      "metadata": {
        "id": "8b697646"
      },
      "outputs": [],
      "source": [
        "df = pd.read_csv(\"cleaned.csv\")"
      ]
    },
    {
      "cell_type": "code",
      "execution_count": null,
      "id": "bead2a80",
      "metadata": {
        "id": "bead2a80",
        "outputId": "4a6d46a0-b167-41a9-b78b-cc2ee9c788da"
      },
      "outputs": [
        {
          "data": {
            "text/html": [
              "<div>\n",
              "<style scoped>\n",
              "    .dataframe tbody tr th:only-of-type {\n",
              "        vertical-align: middle;\n",
              "    }\n",
              "\n",
              "    .dataframe tbody tr th {\n",
              "        vertical-align: top;\n",
              "    }\n",
              "\n",
              "    .dataframe thead th {\n",
              "        text-align: right;\n",
              "    }\n",
              "</style>\n",
              "<table border=\"1\" class=\"dataframe\">\n",
              "  <thead>\n",
              "    <tr style=\"text-align: right;\">\n",
              "      <th></th>\n",
              "      <th>Unnamed: 0</th>\n",
              "      <th>CONS_NO</th>\n",
              "      <th>FLAG</th>\n",
              "      <th>1/1/2014</th>\n",
              "      <th>1/10/2014</th>\n",
              "      <th>1/11/2014</th>\n",
              "      <th>1/12/2014</th>\n",
              "      <th>1/13/2014</th>\n",
              "      <th>1/14/2014</th>\n",
              "      <th>1/15/2014</th>\n",
              "      <th>...</th>\n",
              "      <th>9/28/2016</th>\n",
              "      <th>9/29/2016</th>\n",
              "      <th>9/3/2016</th>\n",
              "      <th>9/30/2016</th>\n",
              "      <th>9/4/2016</th>\n",
              "      <th>9/5/2016</th>\n",
              "      <th>9/6/2016</th>\n",
              "      <th>9/7/2016</th>\n",
              "      <th>9/8/2016</th>\n",
              "      <th>9/9/2016</th>\n",
              "    </tr>\n",
              "  </thead>\n",
              "  <tbody>\n",
              "    <tr>\n",
              "      <th>0</th>\n",
              "      <td>0</td>\n",
              "      <td>0387DD8A07E07FDA6271170F86AD9151</td>\n",
              "      <td>1</td>\n",
              "      <td>13.876554</td>\n",
              "      <td>13.876554</td>\n",
              "      <td>13.876554</td>\n",
              "      <td>13.876554</td>\n",
              "      <td>13.876554</td>\n",
              "      <td>13.876554</td>\n",
              "      <td>13.876554</td>\n",
              "      <td>...</td>\n",
              "      <td>10.12</td>\n",
              "      <td>9.96</td>\n",
              "      <td>16.92</td>\n",
              "      <td>7.60</td>\n",
              "      <td>27.22</td>\n",
              "      <td>18.05</td>\n",
              "      <td>26.47</td>\n",
              "      <td>18.75</td>\n",
              "      <td>17.84</td>\n",
              "      <td>14.92</td>\n",
              "    </tr>\n",
              "    <tr>\n",
              "      <th>1</th>\n",
              "      <td>1</td>\n",
              "      <td>EDFC78B07BA2908B3395C4EB2304665E</td>\n",
              "      <td>1</td>\n",
              "      <td>2.900000</td>\n",
              "      <td>3.420000</td>\n",
              "      <td>3.810000</td>\n",
              "      <td>4.580000</td>\n",
              "      <td>3.560000</td>\n",
              "      <td>4.250000</td>\n",
              "      <td>3.860000</td>\n",
              "      <td>...</td>\n",
              "      <td>17.77</td>\n",
              "      <td>10.37</td>\n",
              "      <td>15.32</td>\n",
              "      <td>13.51</td>\n",
              "      <td>12.23</td>\n",
              "      <td>14.68</td>\n",
              "      <td>16.35</td>\n",
              "      <td>18.14</td>\n",
              "      <td>18.41</td>\n",
              "      <td>17.31</td>\n",
              "    </tr>\n",
              "    <tr>\n",
              "      <th>2</th>\n",
              "      <td>2</td>\n",
              "      <td>34C1954AA3703C4F8BD8EAEA7C4B7B83</td>\n",
              "      <td>1</td>\n",
              "      <td>0.110000</td>\n",
              "      <td>0.530000</td>\n",
              "      <td>0.450000</td>\n",
              "      <td>0.510000</td>\n",
              "      <td>1.320000</td>\n",
              "      <td>0.710000</td>\n",
              "      <td>0.120000</td>\n",
              "      <td>...</td>\n",
              "      <td>4.33</td>\n",
              "      <td>2.46</td>\n",
              "      <td>1.23</td>\n",
              "      <td>3.19</td>\n",
              "      <td>1.17</td>\n",
              "      <td>1.36</td>\n",
              "      <td>0.56</td>\n",
              "      <td>1.02</td>\n",
              "      <td>1.96</td>\n",
              "      <td>1.83</td>\n",
              "    </tr>\n",
              "    <tr>\n",
              "      <th>3</th>\n",
              "      <td>3</td>\n",
              "      <td>768309B0EB11FD436CEE5ABFB84F4C0C</td>\n",
              "      <td>1</td>\n",
              "      <td>0.910000</td>\n",
              "      <td>0.860000</td>\n",
              "      <td>1.100000</td>\n",
              "      <td>0.660000</td>\n",
              "      <td>5.820000</td>\n",
              "      <td>3.170000</td>\n",
              "      <td>1.180000</td>\n",
              "      <td>...</td>\n",
              "      <td>2.36</td>\n",
              "      <td>2.82</td>\n",
              "      <td>2.28</td>\n",
              "      <td>3.70</td>\n",
              "      <td>3.07</td>\n",
              "      <td>4.61</td>\n",
              "      <td>3.13</td>\n",
              "      <td>3.10</td>\n",
              "      <td>3.74</td>\n",
              "      <td>3.13</td>\n",
              "    </tr>\n",
              "    <tr>\n",
              "      <th>4</th>\n",
              "      <td>4</td>\n",
              "      <td>516954F5FF177CE314656D727FCC66A5</td>\n",
              "      <td>1</td>\n",
              "      <td>11.020000</td>\n",
              "      <td>8.240000</td>\n",
              "      <td>7.940000</td>\n",
              "      <td>7.920000</td>\n",
              "      <td>8.310000</td>\n",
              "      <td>7.390000</td>\n",
              "      <td>8.270000</td>\n",
              "      <td>...</td>\n",
              "      <td>51.36</td>\n",
              "      <td>52.39</td>\n",
              "      <td>113.35</td>\n",
              "      <td>60.89</td>\n",
              "      <td>115.62</td>\n",
              "      <td>108.69</td>\n",
              "      <td>87.88</td>\n",
              "      <td>86.36</td>\n",
              "      <td>81.51</td>\n",
              "      <td>81.75</td>\n",
              "    </tr>\n",
              "  </tbody>\n",
              "</table>\n",
              "<p>5 rows × 1037 columns</p>\n",
              "</div>"
            ],
            "text/plain": [
              "   Unnamed: 0                           CONS_NO  FLAG   1/1/2014  1/10/2014  \\\n",
              "0           0  0387DD8A07E07FDA6271170F86AD9151     1  13.876554  13.876554   \n",
              "1           1  EDFC78B07BA2908B3395C4EB2304665E     1   2.900000   3.420000   \n",
              "2           2  34C1954AA3703C4F8BD8EAEA7C4B7B83     1   0.110000   0.530000   \n",
              "3           3  768309B0EB11FD436CEE5ABFB84F4C0C     1   0.910000   0.860000   \n",
              "4           4  516954F5FF177CE314656D727FCC66A5     1  11.020000   8.240000   \n",
              "\n",
              "   1/11/2014  1/12/2014  1/13/2014  1/14/2014  1/15/2014  ...  9/28/2016  \\\n",
              "0  13.876554  13.876554  13.876554  13.876554  13.876554  ...      10.12   \n",
              "1   3.810000   4.580000   3.560000   4.250000   3.860000  ...      17.77   \n",
              "2   0.450000   0.510000   1.320000   0.710000   0.120000  ...       4.33   \n",
              "3   1.100000   0.660000   5.820000   3.170000   1.180000  ...       2.36   \n",
              "4   7.940000   7.920000   8.310000   7.390000   8.270000  ...      51.36   \n",
              "\n",
              "   9/29/2016  9/3/2016  9/30/2016  9/4/2016  9/5/2016  9/6/2016  9/7/2016  \\\n",
              "0       9.96     16.92       7.60     27.22     18.05     26.47     18.75   \n",
              "1      10.37     15.32      13.51     12.23     14.68     16.35     18.14   \n",
              "2       2.46      1.23       3.19      1.17      1.36      0.56      1.02   \n",
              "3       2.82      2.28       3.70      3.07      4.61      3.13      3.10   \n",
              "4      52.39    113.35      60.89    115.62    108.69     87.88     86.36   \n",
              "\n",
              "   9/8/2016  9/9/2016  \n",
              "0     17.84     14.92  \n",
              "1     18.41     17.31  \n",
              "2      1.96      1.83  \n",
              "3      3.74      3.13  \n",
              "4     81.51     81.75  \n",
              "\n",
              "[5 rows x 1037 columns]"
            ]
          },
          "execution_count": 21,
          "metadata": {},
          "output_type": "execute_result"
        }
      ],
      "source": [
        "df.head()"
      ]
    },
    {
      "cell_type": "code",
      "execution_count": null,
      "id": "b3a0f8e0",
      "metadata": {
        "id": "b3a0f8e0",
        "outputId": "24733ede-90d9-4633-f499-f5ce6eaee017"
      },
      "outputs": [
        {
          "data": {
            "text/plain": [
              "(31188, 1037)"
            ]
          },
          "execution_count": 25,
          "metadata": {},
          "output_type": "execute_result"
        }
      ],
      "source": [
        "df.shape"
      ]
    },
    {
      "cell_type": "code",
      "execution_count": null,
      "id": "f2ef0f54",
      "metadata": {
        "id": "f2ef0f54",
        "outputId": "344197f1-f25a-4906-b8da-e99471c71c78"
      },
      "outputs": [
        {
          "name": "stdout",
          "output_type": "stream",
          "text": [
            "first 0 flag: 2409\n",
            "last 1 flag: 2408\n"
          ]
        }
      ],
      "source": [
        "first0 = 0\n",
        "last1 = 0\n",
        "for index, row in df.iterrows():\n",
        "    if row['FLAG'] == 0 and first0 == 0:\n",
        "        first0 = index\n",
        "    if row['FLAG'] == 1:\n",
        "        last1 = index\n",
        "print(\"last 1 flag: \" + str(last1))\n",
        "print(\"first 0 flag: \" + str(first0))\n",
        "\n",
        "\n"
      ]
    },
    {
      "cell_type": "code",
      "execution_count": null,
      "id": "5306c8e2",
      "metadata": {
        "id": "5306c8e2"
      },
      "outputs": [],
      "source": [
        "Y = df.filter(['0', 'FLAG'], axis = 1)"
      ]
    },
    {
      "cell_type": "code",
      "execution_count": null,
      "id": "a01de9f5",
      "metadata": {
        "id": "a01de9f5",
        "outputId": "148e1c4f-9330-4c84-bf52-14c2b4bff38a"
      },
      "outputs": [
        {
          "data": {
            "text/plain": [
              "(31188, 1)"
            ]
          },
          "execution_count": 49,
          "metadata": {},
          "output_type": "execute_result"
        }
      ],
      "source": [
        "Y.shape"
      ]
    },
    {
      "cell_type": "code",
      "execution_count": null,
      "id": "bc1e1e2c",
      "metadata": {
        "id": "bc1e1e2c"
      },
      "outputs": [],
      "source": [
        "X = df.drop(columns = ['FLAG'])"
      ]
    },
    {
      "cell_type": "code",
      "execution_count": null,
      "id": "edb592e3",
      "metadata": {
        "scrolled": true,
        "id": "edb592e3",
        "outputId": "acdad132-0847-4b33-ffd9-0628f1a3c993"
      },
      "outputs": [
        {
          "data": {
            "text/plain": [
              "(31188, 1036)"
            ]
          },
          "execution_count": 51,
          "metadata": {},
          "output_type": "execute_result"
        }
      ],
      "source": [
        "X.shape"
      ]
    },
    {
      "cell_type": "code",
      "execution_count": null,
      "id": "652f82b0",
      "metadata": {
        "id": "652f82b0",
        "outputId": "6eebc387-365f-483a-f151-c2effb436bb0"
      },
      "outputs": [
        {
          "name": "stdout",
          "output_type": "stream",
          "text": [
            "31188\n"
          ]
        }
      ],
      "source": [
        "valid_split = 0.2\n",
        "test_split  = 0.1\n",
        "\n",
        "v_point_1 = int(last1*(1-valid_split-test_split))\n",
        "t_point_1 = int(last1*(1-test_split))\n",
        "\n",
        "\n",
        "X_train = X[:v_point_1]\n",
        "Y_train = Y[:v_point_1]\n",
        "X_valid = X[v_point_1:t_point_1]\n",
        "Y_valid = Y[v_point_1:t_point_1]\n",
        "X_test  = X[t_point_1:first0]\n",
        "Y_test  = Y[t_point_1:first0]\n",
        "\n",
        "v_point_0 = int((len(X)-last1)*(1-valid_split-test_split))\n",
        "t_point_0 = int((len(X)-last1)*(1-test_split))\n",
        "\n",
        "X_train = X_train.append(X[first0:v_point_0])\n",
        "Y_train = Y_train.append(Y[first0:v_point_0])\n",
        "X_valid = X_valid.append(X[v_point_0:t_point_0])\n",
        "Y_valid = Y_valid.append(Y[v_point_0:t_point_0])\n",
        "X_test  = X_test.append(X[t_point_0:])\n",
        "Y_test  = Y_test.append(Y[t_point_0:])\n",
        "\n",
        "print(len(X_train) + len(X_test) + len(X_valid))\n"
      ]
    },
    {
      "cell_type": "markdown",
      "source": [
        "# Model Definition"
      ],
      "metadata": {
        "id": "YYOE7wBeecDq"
      },
      "id": "YYOE7wBeecDq"
    },
    {
      "cell_type": "code",
      "execution_count": null,
      "id": "c46813d5",
      "metadata": {
        "id": "c46813d5"
      },
      "outputs": [],
      "source": [
        "model = Sequential()\n",
        "model.add(LSTM(128, input_shape=(X.shape[-2], X.shape[-1])))\n",
        "model.add(Dense(128))\n",
        "model.add(Activation('softmax'))\n",
        "\n",
        "optimizer = RMSprop(learning_rate=0.01)\n",
        "model.compile(loss='categorical_crossentropy', optimizer=optimizer, metrics=['accuracy'])"
      ]
    },
    {
      "cell_type": "markdown",
      "source": [
        "# Model Training"
      ],
      "metadata": {
        "id": "2kXh0y3-ee92"
      },
      "id": "2kXh0y3-ee92"
    },
    {
      "cell_type": "code",
      "source": [
        "es = EarlyStopping(patience=5, restore_best_weights=True, monitor=\"val_accuracy\")\n",
        "\n",
        "model.fit(X_train, y_train, \n",
        "          epochs=50, batch_size=128, \n",
        "          validation_data=(X_val, y_val), # validation\n",
        "          callbacks=[es],\n",
        "          verbose=1)"
      ],
      "metadata": {
        "id": "Ro1FPgg9eW3-"
      },
      "id": "Ro1FPgg9eW3-",
      "execution_count": null,
      "outputs": []
    },
    {
      "cell_type": "markdown",
      "source": [
        "# Evaluation on test data"
      ],
      "metadata": {
        "id": "olTUFg5ReiKE"
      },
      "id": "olTUFg5ReiKE"
    },
    {
      "cell_type": "code",
      "source": [
        "eval = model.evaluate(X_test, y_test)\n",
        "print(\"Test loss:\",eval[0])\n",
        "print(\"Test accuracy:\",eval[1])"
      ],
      "metadata": {
        "id": "2GUGthZHeY8T"
      },
      "id": "2GUGthZHeY8T",
      "execution_count": null,
      "outputs": []
    },
    {
      "cell_type": "markdown",
      "source": [
        "# Confusion matrix"
      ],
      "metadata": {
        "id": "1qC1qJ5ielAX"
      },
      "id": "1qC1qJ5ielAX"
    },
    {
      "cell_type": "code",
      "source": [
        "preds = model.predict(X_test)\n",
        "conf=confusion_matrix(np.argmax(y_test,1),np.argmax(preds,1))\n",
        "sns.heatmap(conf, annot=True, fmt='d', vmax=100)"
      ],
      "metadata": {
        "id": "QaPPo_7teogX"
      },
      "id": "QaPPo_7teogX",
      "execution_count": null,
      "outputs": []
    }
  ],
  "metadata": {
    "kernelspec": {
      "display_name": "Python 3 (ipykernel)",
      "language": "python",
      "name": "python3"
    },
    "language_info": {
      "codemirror_mode": {
        "name": "ipython",
        "version": 3
      },
      "file_extension": ".py",
      "mimetype": "text/x-python",
      "name": "python",
      "nbconvert_exporter": "python",
      "pygments_lexer": "ipython3",
      "version": "3.9.0"
    },
    "colab": {
      "provenance": [],
      "include_colab_link": true
    }
  },
  "nbformat": 4,
  "nbformat_minor": 5
}